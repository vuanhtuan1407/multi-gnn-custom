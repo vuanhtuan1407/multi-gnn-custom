{
 "cells": [
  {
   "cell_type": "code",
   "execution_count": 1,
   "id": "5e32de3e-0cf5-4402-8a9b-c08aaf8a9853",
   "metadata": {},
   "outputs": [],
   "source": [
    "import pandas as pd"
   ]
  },
  {
   "cell_type": "code",
   "execution_count": 2,
   "id": "677beaee-b778-43fa-af53-f41a049467fe",
   "metadata": {},
   "outputs": [],
   "source": [
    "df = pd.read_csv(\"./data/formatted_transactions.csv\")"
   ]
  },
  {
   "cell_type": "code",
   "execution_count": 3,
   "id": "76a353ec-c561-40bf-b5ad-e379213a34a5",
   "metadata": {},
   "outputs": [
    {
     "data": {
      "text/html": [
       "<div>\n",
       "<style scoped>\n",
       "    .dataframe tbody tr th:only-of-type {\n",
       "        vertical-align: middle;\n",
       "    }\n",
       "\n",
       "    .dataframe tbody tr th {\n",
       "        vertical-align: top;\n",
       "    }\n",
       "\n",
       "    .dataframe thead th {\n",
       "        text-align: right;\n",
       "    }\n",
       "</style>\n",
       "<table border=\"1\" class=\"dataframe\">\n",
       "  <thead>\n",
       "    <tr style=\"text-align: right;\">\n",
       "      <th></th>\n",
       "      <th>EdgeID</th>\n",
       "      <th>from_id</th>\n",
       "      <th>to_id</th>\n",
       "      <th>Timestamp</th>\n",
       "      <th>Amount Sent</th>\n",
       "      <th>Sent Currency</th>\n",
       "      <th>Amount Received</th>\n",
       "      <th>Received Currency</th>\n",
       "      <th>Payment Format</th>\n",
       "      <th>Is Laundering</th>\n",
       "    </tr>\n",
       "  </thead>\n",
       "  <tbody>\n",
       "    <tr>\n",
       "      <th>0</th>\n",
       "      <td>2</td>\n",
       "      <td>3</td>\n",
       "      <td>3</td>\n",
       "      <td>10</td>\n",
       "      <td>14675.57</td>\n",
       "      <td>0</td>\n",
       "      <td>14675.57</td>\n",
       "      <td>0</td>\n",
       "      <td>0</td>\n",
       "      <td>0</td>\n",
       "    </tr>\n",
       "    <tr>\n",
       "      <th>1</th>\n",
       "      <td>17</td>\n",
       "      <td>24</td>\n",
       "      <td>24</td>\n",
       "      <td>10</td>\n",
       "      <td>897.37</td>\n",
       "      <td>0</td>\n",
       "      <td>897.37</td>\n",
       "      <td>0</td>\n",
       "      <td>0</td>\n",
       "      <td>0</td>\n",
       "    </tr>\n",
       "    <tr>\n",
       "      <th>2</th>\n",
       "      <td>158</td>\n",
       "      <td>163</td>\n",
       "      <td>163</td>\n",
       "      <td>10</td>\n",
       "      <td>99986.94</td>\n",
       "      <td>0</td>\n",
       "      <td>99986.94</td>\n",
       "      <td>0</td>\n",
       "      <td>0</td>\n",
       "      <td>0</td>\n",
       "    </tr>\n",
       "    <tr>\n",
       "      <th>3</th>\n",
       "      <td>218</td>\n",
       "      <td>215</td>\n",
       "      <td>215</td>\n",
       "      <td>10</td>\n",
       "      <td>16.08</td>\n",
       "      <td>0</td>\n",
       "      <td>16.08</td>\n",
       "      <td>0</td>\n",
       "      <td>0</td>\n",
       "      <td>0</td>\n",
       "    </tr>\n",
       "    <tr>\n",
       "      <th>4</th>\n",
       "      <td>281</td>\n",
       "      <td>265</td>\n",
       "      <td>265</td>\n",
       "      <td>10</td>\n",
       "      <td>10.30</td>\n",
       "      <td>0</td>\n",
       "      <td>10.30</td>\n",
       "      <td>0</td>\n",
       "      <td>0</td>\n",
       "      <td>0</td>\n",
       "    </tr>\n",
       "  </tbody>\n",
       "</table>\n",
       "</div>"
      ],
      "text/plain": [
       "   EdgeID  from_id  to_id  Timestamp  Amount Sent  Sent Currency  \\\n",
       "0       2        3      3         10     14675.57              0   \n",
       "1      17       24     24         10       897.37              0   \n",
       "2     158      163    163         10     99986.94              0   \n",
       "3     218      215    215         10        16.08              0   \n",
       "4     281      265    265         10        10.30              0   \n",
       "\n",
       "   Amount Received  Received Currency  Payment Format  Is Laundering  \n",
       "0         14675.57                  0               0              0  \n",
       "1           897.37                  0               0              0  \n",
       "2         99986.94                  0               0              0  \n",
       "3            16.08                  0               0              0  \n",
       "4            10.30                  0               0              0  "
      ]
     },
     "execution_count": 3,
     "metadata": {},
     "output_type": "execute_result"
    }
   ],
   "source": [
    "df.head()"
   ]
  },
  {
   "cell_type": "code",
   "execution_count": 8,
   "id": "3d107d99-c524-4a80-905c-eb3454dfe861",
   "metadata": {},
   "outputs": [
    {
     "data": {
      "text/plain": [
       "EdgeID               4790094.00\n",
       "from_id                 9310.00\n",
       "to_id                 429697.00\n",
       "Timestamp            1453210.00\n",
       "Amount Sent             5615.49\n",
       "Sent Currency              0.00\n",
       "Amount Received         5615.49\n",
       "Received Currency          0.00\n",
       "Payment Format             3.00\n",
       "Is Laundering              1.00\n",
       "Name: 4924246, dtype: float64"
      ]
     },
     "execution_count": 8,
     "metadata": {},
     "output_type": "execute_result"
    }
   ],
   "source": [
    "df.iloc[4924246]"
   ]
  },
  {
   "cell_type": "code",
   "execution_count": 9,
   "id": "cebaad99-a015-4e52-9674-db2cd8e5bb64",
   "metadata": {},
   "outputs": [
    {
     "name": "stderr",
     "output_type": "stream",
     "text": [
      "DatatableWarning: Duplicate column name found, and was assigned a unique name: 'Account' -> 'Account.0'\n"
     ]
    }
   ],
   "source": [
    "import datatable as dt\n",
    "\n",
    "raw = dt.fread('./data/HI-Small_Trans.csv', fill=True)"
   ]
  },
  {
   "cell_type": "code",
   "execution_count": 14,
   "id": "eeb6491f-e886-41ea-8280-3ac3bde6ba20",
   "metadata": {},
   "outputs": [
    {
     "data": {
      "text/html": [
       "<div class='datatable'>\n",
       "  <table class='frame'>\n",
       "  <thead>\n",
       "    <tr class='colnames'><td class='row_index'></td><th>Timestamp</th><th>From Bank</th><th>Account</th><th>To Bank</th><th>Account.0</th><th>Amount Received</th><th>Receiving Currency</th><th>Amount Paid</th><th>Payment Currency</th><th>Payment Format</th><th>Is Laundering</th></tr>\n",
       "    <tr class='coltypes'><td class='row_index'></td><td class='str' title='str32'>&#x25AA;&#x25AA;&#x25AA;&#x25AA;</td><td class='int' title='int32'>&#x25AA;&#x25AA;&#x25AA;&#x25AA;</td><td class='str' title='str32'>&#x25AA;&#x25AA;&#x25AA;&#x25AA;</td><td class='int' title='int32'>&#x25AA;&#x25AA;&#x25AA;&#x25AA;</td><td class='str' title='str32'>&#x25AA;&#x25AA;&#x25AA;&#x25AA;</td><td class='float' title='float64'>&#x25AA;&#x25AA;&#x25AA;&#x25AA;&#x25AA;&#x25AA;&#x25AA;&#x25AA;</td><td class='str' title='str32'>&#x25AA;&#x25AA;&#x25AA;&#x25AA;</td><td class='float' title='float64'>&#x25AA;&#x25AA;&#x25AA;&#x25AA;&#x25AA;&#x25AA;&#x25AA;&#x25AA;</td><td class='str' title='str32'>&#x25AA;&#x25AA;&#x25AA;&#x25AA;</td><td class='str' title='str32'>&#x25AA;&#x25AA;&#x25AA;&#x25AA;</td><td class='bool' title='bool8'>&#x25AA;</td></tr>\n",
       "  </thead>\n",
       "  <tbody>\n",
       "    <tr><td class='row_index'>0</td><td>2022/09/10 04:59</td><td>12</td><td>8049B38C0</td><td>3</td><td>804B9F1E0</td><td>4509.98</td><td>Rupee</td><td>4509.98</td><td>Rupee</td><td>Credit Card</td><td>0</td></tr>\n",
       "  </tbody>\n",
       "  </table>\n",
       "  <div class='footer'>\n",
       "    <div class='frame_dimensions'>1 row &times; 11 columns</div>\n",
       "  </div>\n",
       "</div>\n"
      ],
      "text/plain": [
       "<Frame#7fdcc960bed0 1x11>"
      ]
     },
     "execution_count": 14,
     "metadata": {},
     "output_type": "execute_result"
    }
   ],
   "source": [
    "raw[4924245, :]"
   ]
  },
  {
   "cell_type": "code",
   "execution_count": 1,
   "id": "fcb78187-2944-4884-9f7b-356b64758414",
   "metadata": {},
   "outputs": [
    {
     "name": "stdout",
     "output_type": "stream",
     "text": [
      "True\n"
     ]
    }
   ],
   "source": [
    "import torch\n",
    "print(torch.cuda.is_available())"
   ]
  },
  {
   "cell_type": "code",
   "execution_count": 2,
   "id": "f2f66b8b-ca28-4cd2-8e04-4b26cbbf9ab6",
   "metadata": {},
   "outputs": [
    {
     "name": "stdout",
     "output_type": "stream",
     "text": [
      "torch                         2.5.1+cu121\n",
      "torch-cluster                 1.6.1+pt113cpu\n",
      "torch-geometric               2.3.1\n",
      "torch-scatter                 2.1.1+pt113cpu\n",
      "torch-sparse                  0.6.17+pt113cpu\n",
      "torch-spline-conv             1.2.2+pt113cpu\n",
      "torchaudio                    2.5.1+cu121\n",
      "torchvision                   0.20.1+cu121\n"
     ]
    }
   ],
   "source": [
    "!pip3 list | grep torch"
   ]
  },
  {
   "cell_type": "code",
   "execution_count": 15,
   "id": "31795cf3-f955-4fbe-9439-dab827ac511a",
   "metadata": {},
   "outputs": [
    {
     "name": "stdout",
     "output_type": "stream",
     "text": [
      "pyg-lib                       0.2.0+pt113cpu\n"
     ]
    }
   ],
   "source": [
    "!pip3 list | grep pyg-lib"
   ]
  }
 ],
 "metadata": {
  "kernelspec": {
   "display_name": "PyTorch",
   "language": "python",
   "name": "python3"
  },
  "language_info": {
   "codemirror_mode": {
    "name": "ipython",
    "version": 3
   },
   "file_extension": ".py",
   "mimetype": "text/x-python",
   "name": "python",
   "nbconvert_exporter": "python",
   "pygments_lexer": "ipython3",
   "version": "3.9.16"
  }
 },
 "nbformat": 4,
 "nbformat_minor": 5
}
