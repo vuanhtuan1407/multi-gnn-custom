{
 "cells": [
  {
   "cell_type": "code",
   "execution_count": 1,
   "id": "418cbb23-3ce9-49b5-9699-d86a6a201b59",
   "metadata": {},
   "outputs": [],
   "source": [
    "import numpy as np\n",
    "import pandas as pd\n",
    "import matplotlib.pyplot as plt\n",
    "import seaborn as sns\n",
    "import sklearn\n",
    "import xgboost as xgb\n",
    "from xgboost import XGBClassifier\n",
    "from sklearn.model_selection import train_test_split\n",
    "from sklearn.metrics import accuracy_score\n",
    "\n",
    "df = pd.read_csv('./data/formatted_transactions.csv')\n",
    "df.columns = df.columns.str.replace(\" \", \"_\")\n",
    "\n",
    "# split data into X and y\n",
    "X = df.iloc[:,:-1]\n",
    "y = df.iloc[:,-1]"
   ]
  },
  {
   "cell_type": "code",
   "execution_count": 2,
   "id": "5d3f5272-7c34-4c45-82c8-03f52569f92d",
   "metadata": {},
   "outputs": [
    {
     "data": {
      "text/html": [
       "<div>\n",
       "<style scoped>\n",
       "    .dataframe tbody tr th:only-of-type {\n",
       "        vertical-align: middle;\n",
       "    }\n",
       "\n",
       "    .dataframe tbody tr th {\n",
       "        vertical-align: top;\n",
       "    }\n",
       "\n",
       "    .dataframe thead th {\n",
       "        text-align: right;\n",
       "    }\n",
       "</style>\n",
       "<table border=\"1\" class=\"dataframe\">\n",
       "  <thead>\n",
       "    <tr style=\"text-align: right;\">\n",
       "      <th></th>\n",
       "      <th>EdgeID</th>\n",
       "      <th>from_id</th>\n",
       "      <th>to_id</th>\n",
       "      <th>Timestamp</th>\n",
       "      <th>Amount_Sent</th>\n",
       "      <th>Sent_Currency</th>\n",
       "      <th>Amount_Received</th>\n",
       "      <th>Received_Currency</th>\n",
       "      <th>Payment_Format</th>\n",
       "      <th>Is_Laundering</th>\n",
       "    </tr>\n",
       "  </thead>\n",
       "  <tbody>\n",
       "    <tr>\n",
       "      <th>0</th>\n",
       "      <td>2</td>\n",
       "      <td>3</td>\n",
       "      <td>3</td>\n",
       "      <td>10</td>\n",
       "      <td>14675.57</td>\n",
       "      <td>0</td>\n",
       "      <td>14675.57</td>\n",
       "      <td>0</td>\n",
       "      <td>0</td>\n",
       "      <td>0</td>\n",
       "    </tr>\n",
       "    <tr>\n",
       "      <th>1</th>\n",
       "      <td>17</td>\n",
       "      <td>24</td>\n",
       "      <td>24</td>\n",
       "      <td>10</td>\n",
       "      <td>897.37</td>\n",
       "      <td>0</td>\n",
       "      <td>897.37</td>\n",
       "      <td>0</td>\n",
       "      <td>0</td>\n",
       "      <td>0</td>\n",
       "    </tr>\n",
       "    <tr>\n",
       "      <th>2</th>\n",
       "      <td>158</td>\n",
       "      <td>163</td>\n",
       "      <td>163</td>\n",
       "      <td>10</td>\n",
       "      <td>99986.94</td>\n",
       "      <td>0</td>\n",
       "      <td>99986.94</td>\n",
       "      <td>0</td>\n",
       "      <td>0</td>\n",
       "      <td>0</td>\n",
       "    </tr>\n",
       "    <tr>\n",
       "      <th>3</th>\n",
       "      <td>218</td>\n",
       "      <td>215</td>\n",
       "      <td>215</td>\n",
       "      <td>10</td>\n",
       "      <td>16.08</td>\n",
       "      <td>0</td>\n",
       "      <td>16.08</td>\n",
       "      <td>0</td>\n",
       "      <td>0</td>\n",
       "      <td>0</td>\n",
       "    </tr>\n",
       "    <tr>\n",
       "      <th>4</th>\n",
       "      <td>281</td>\n",
       "      <td>265</td>\n",
       "      <td>265</td>\n",
       "      <td>10</td>\n",
       "      <td>10.30</td>\n",
       "      <td>0</td>\n",
       "      <td>10.30</td>\n",
       "      <td>0</td>\n",
       "      <td>0</td>\n",
       "      <td>0</td>\n",
       "    </tr>\n",
       "  </tbody>\n",
       "</table>\n",
       "</div>"
      ],
      "text/plain": [
       "   EdgeID  from_id  to_id  Timestamp  Amount_Sent  Sent_Currency  \\\n",
       "0       2        3      3         10     14675.57              0   \n",
       "1      17       24     24         10       897.37              0   \n",
       "2     158      163    163         10     99986.94              0   \n",
       "3     218      215    215         10        16.08              0   \n",
       "4     281      265    265         10        10.30              0   \n",
       "\n",
       "   Amount_Received  Received_Currency  Payment_Format  Is_Laundering  \n",
       "0         14675.57                  0               0              0  \n",
       "1           897.37                  0               0              0  \n",
       "2         99986.94                  0               0              0  \n",
       "3            16.08                  0               0              0  \n",
       "4            10.30                  0               0              0  "
      ]
     },
     "execution_count": 2,
     "metadata": {},
     "output_type": "execute_result"
    }
   ],
   "source": [
    "df.head()"
   ]
  },
  {
   "cell_type": "code",
   "execution_count": 5,
   "id": "66847c31-914b-42f1-b878-08603735c5e8",
   "metadata": {},
   "outputs": [
    {
     "name": "stdout",
     "output_type": "stream",
     "text": [
      "\n",
      "→ Day split indices:\n",
      "Train: [0, 1, 2, 3, 4]...\n",
      "Val: [5, 6]...\n",
      "Test: [7, 8, 9, 10, 11]...\n",
      "\n",
      "Train set: 2766832 samples (56.19%)\n",
      "Illicit Ratio: 0.07%\n",
      "\n",
      "Validation set: 964840 samples (19.59%)\n",
      "Illicit Ratio: 0.11%\n",
      "\n",
      "Test set: 1192575 samples (24.22%)\n",
      "Illicit Ratio: 0.15%\n"
     ]
    }
   ],
   "source": [
    "import pandas as pd\n",
    "import numpy as np\n",
    "import itertools\n",
    "\n",
    "# === Setup ===\n",
    "# x_df must contain a 'timestamp' column\n",
    "# y_df must be aligned (same index) and contain one column like 'label'\n",
    "\n",
    "n_days = (X['Timestamp'].max() - X['Timestamp'].min()) // (24 * 3600) + 1\n",
    "base_ts = X['Timestamp'].min()\n",
    "\n",
    "daily_irs = []\n",
    "weighted_daily_irs = []\n",
    "daily_inds = []\n",
    "daily_trans = []\n",
    "\n",
    "# === Step 1: Get daily stats from x_df and y_df ===\n",
    "for day in range(n_days):\n",
    "    l = base_ts + day * 24 * 3600\n",
    "    r = base_ts + (day + 1) * 24 * 3600\n",
    "    day_inds = X[(X['Timestamp'] >= l) & (X['Timestamp'] < r)].index\n",
    "    daily_inds.append(day_inds)\n",
    "    \n",
    "    if not day_inds.empty:\n",
    "        ir = y.loc[day_inds].mean()\n",
    "        daily_irs.append(ir)\n",
    "        weighted_daily_irs.append(ir * len(day_inds) / len(X))\n",
    "        daily_trans.append(len(day_inds))\n",
    "    else:\n",
    "        daily_irs.append(0)\n",
    "        weighted_daily_irs.append(0)\n",
    "        daily_trans.append(0)\n",
    "\n",
    "# === Step 2: Find best (i, j) day split based on transaction count ===\n",
    "split_per = [0.6, 0.2, 0.2]\n",
    "daily_totals = np.array(daily_trans)\n",
    "I = list(range(len(daily_totals)))\n",
    "split_scores = {}\n",
    "\n",
    "for i, j in itertools.combinations(I, 2):\n",
    "    if j >= i:\n",
    "        split_totals = [daily_totals[:i].sum(), daily_totals[i:j].sum(), daily_totals[j:].sum()]\n",
    "        split_sum = sum(split_totals)\n",
    "        if split_sum == 0:\n",
    "            continue\n",
    "        split_props = [v / split_sum for v in split_totals]\n",
    "        split_error = [abs(v - t) / t for v, t in zip(split_props, split_per)]\n",
    "        score = max(split_error)\n",
    "        split_scores[(i, j)] = score\n",
    "\n",
    "i, j = min(split_scores, key=split_scores.get)\n",
    "split = [list(range(i)), list(range(i, j)), list(range(j, n_days))]\n",
    "\n",
    "print(f\"\\n→ Day split indices:\\nTrain: {split[0][:5]}...\\nVal: {split[1][:5]}...\\nTest: {split[2][:5]}...\")\n",
    "\n",
    "# === Step 3: Split x_df and y_df ===\n",
    "split_x = {0: [], 1: [], 2: []}\n",
    "split_y = {0: [], 1: [], 2: []}\n",
    "\n",
    "for k in range(3):\n",
    "    for day in split[k]:\n",
    "        split_x[k].append(X.loc[daily_inds[day]])\n",
    "        split_y[k].append(y.loc[daily_inds[day]])\n",
    "\n",
    "X_train = pd.concat(split_x[0])\n",
    "X_val   = pd.concat(split_x[1])\n",
    "X_test  = pd.concat(split_x[2])\n",
    "\n",
    "y_train = pd.concat(split_y[0])\n",
    "y_val   = pd.concat(split_y[1])\n",
    "y_test  = pd.concat(split_y[2])\n",
    "\n",
    "# === Step 4: Print final stats ===\n",
    "print(f\"\\nTrain set: {len(X_train)} samples ({len(X_train)/len(X)*100:.2f}%)\")\n",
    "print(f\"Illicit Ratio: {y_train.mean() * 100:.2f}%\")\n",
    "\n",
    "print(f\"\\nValidation set: {len(X_val)} samples ({len(X_val)/len(X)*100:.2f}%)\")\n",
    "print(f\"Illicit Ratio: {y_val.mean() * 100:.2f}%\")\n",
    "\n",
    "print(f\"\\nTest set: {len(X_test)} samples ({len(X_test)/len(X)*100:.2f}%)\")\n",
    "print(f\"Illicit Ratio: {y_test.mean() * 100:.2f}%\")\n"
   ]
  },
  {
   "cell_type": "markdown",
   "id": "f7bc0c03-342e-42b5-9cc1-cf19efc8f3ef",
   "metadata": {},
   "source": [
    "### XGBoost"
   ]
  },
  {
   "cell_type": "code",
   "execution_count": null,
   "id": "11174f57-aa85-44ba-a25e-ee16ea32a3e5",
   "metadata": {},
   "outputs": [],
   "source": [
    "!pip list | grep xgboost"
   ]
  },
  {
   "cell_type": "code",
   "execution_count": 6,
   "id": "4fd696ae-2f52-407e-8636-fe4b186ac4e8",
   "metadata": {},
   "outputs": [
    {
     "name": "stdout",
     "output_type": "stream",
     "text": [
      "{'n_estimators': 100, 'max_depth': 7, 'learning_rate': 0.008949439451514224, 'reg_lambda': 0.17681136818379248, 'scale_pos_weight': 9.129018800251673, 'colsample_bytree': 0.6540503980068026, 'subsample': 0.9210649530595751, 'eval_metric': 'logloss'}\n"
     ]
    }
   ],
   "source": [
    "import numpy as np\n",
    "\n",
    "xgb_params = {\n",
    "    \"n_estimators\": 100,  # num_round\n",
    "    \"max_depth\": np.random.randint(1, 16),\n",
    "    \"learning_rate\": 10 ** np.random.uniform(-2.5, -1),\n",
    "    \"reg_lambda\": 10 ** np.random.uniform(-2, 2),\n",
    "    \"scale_pos_weight\": np.random.uniform(1, 10),\n",
    "    \"colsample_bytree\": np.random.uniform(0.5, 1.0),\n",
    "    \"subsample\": np.random.uniform(0.5, 1.0),\n",
    "    # \"use_label_encoder\": False,\n",
    "    \"eval_metric\": \"logloss\",\n",
    "    \"device\": \"cuda:0\",\n",
    "    \"tree_method\": \"hist\"\n",
    "}\n",
    "\n",
    "print(xgb_params)"
   ]
  },
  {
   "cell_type": "code",
   "execution_count": 19,
   "id": "d4ce6232-417a-4abb-bf5e-4a338a995d06",
   "metadata": {},
   "outputs": [
    {
     "name": "stdout",
     "output_type": "stream",
     "text": [
      "[0]\tvalidation_0-logloss:0.61883\n",
      "[1]\tvalidation_0-logloss:0.55523\n",
      "[2]\tvalidation_0-logloss:0.50035\n",
      "[3]\tvalidation_0-logloss:0.45214\n",
      "[4]\tvalidation_0-logloss:0.40973\n",
      "[5]\tvalidation_0-logloss:0.37215\n",
      "[6]\tvalidation_0-logloss:0.33871\n",
      "[7]\tvalidation_0-logloss:0.30893\n",
      "[8]\tvalidation_0-logloss:0.28231\n",
      "[9]\tvalidation_0-logloss:0.25851\n",
      "[10]\tvalidation_0-logloss:0.23685\n",
      "[11]\tvalidation_0-logloss:0.21779\n",
      "[12]\tvalidation_0-logloss:0.20025\n",
      "[13]\tvalidation_0-logloss:0.18399\n",
      "[14]\tvalidation_0-logloss:0.16924\n",
      "[15]\tvalidation_0-logloss:0.15598\n",
      "[16]\tvalidation_0-logloss:0.14375\n",
      "[17]\tvalidation_0-logloss:0.13263\n",
      "[18]\tvalidation_0-logloss:0.12237\n",
      "[19]\tvalidation_0-logloss:0.11300\n",
      "[20]\tvalidation_0-logloss:0.10449\n",
      "[21]\tvalidation_0-logloss:0.09678\n",
      "[22]\tvalidation_0-logloss:0.08952\n",
      "[23]\tvalidation_0-logloss:0.08320\n",
      "[24]\tvalidation_0-logloss:0.07692\n",
      "[25]\tvalidation_0-logloss:0.07154\n",
      "[26]\tvalidation_0-logloss:0.06626\n",
      "[27]\tvalidation_0-logloss:0.06152\n",
      "[28]\tvalidation_0-logloss:0.05715\n",
      "[29]\tvalidation_0-logloss:0.05303\n",
      "[30]\tvalidation_0-logloss:0.04930\n",
      "[31]\tvalidation_0-logloss:0.04597\n",
      "[32]\tvalidation_0-logloss:0.04286\n",
      "[33]\tvalidation_0-logloss:0.03998\n",
      "[34]\tvalidation_0-logloss:0.03738\n",
      "[35]\tvalidation_0-logloss:0.03490\n",
      "[36]\tvalidation_0-logloss:0.03270\n",
      "[37]\tvalidation_0-logloss:0.03062\n",
      "[38]\tvalidation_0-logloss:0.02862\n",
      "[39]\tvalidation_0-logloss:0.02688\n",
      "[40]\tvalidation_0-logloss:0.02520\n",
      "[41]\tvalidation_0-logloss:0.02363\n",
      "[42]\tvalidation_0-logloss:0.02219\n",
      "[43]\tvalidation_0-logloss:0.02089\n",
      "[44]\tvalidation_0-logloss:0.01986\n",
      "[45]\tvalidation_0-logloss:0.01876\n",
      "[46]\tvalidation_0-logloss:0.01802\n",
      "[47]\tvalidation_0-logloss:0.01765\n",
      "[48]\tvalidation_0-logloss:0.01669\n",
      "[49]\tvalidation_0-logloss:0.01581\n",
      "[50]\tvalidation_0-logloss:0.01507\n",
      "[51]\tvalidation_0-logloss:0.01431\n",
      "[52]\tvalidation_0-logloss:0.01370\n",
      "[53]\tvalidation_0-logloss:0.01306\n",
      "[54]\tvalidation_0-logloss:0.01251\n",
      "[55]\tvalidation_0-logloss:0.01192\n",
      "[56]\tvalidation_0-logloss:0.01156\n",
      "[57]\tvalidation_0-logloss:0.01125\n",
      "[58]\tvalidation_0-logloss:0.01080\n",
      "[59]\tvalidation_0-logloss:0.01039\n",
      "[60]\tvalidation_0-logloss:0.01020\n",
      "[61]\tvalidation_0-logloss:0.00979\n",
      "[62]\tvalidation_0-logloss:0.00949\n",
      "[63]\tvalidation_0-logloss:0.00919\n",
      "[64]\tvalidation_0-logloss:0.00889\n",
      "[65]\tvalidation_0-logloss:0.00859\n",
      "[66]\tvalidation_0-logloss:0.00830\n",
      "[67]\tvalidation_0-logloss:0.00806\n",
      "[68]\tvalidation_0-logloss:0.00783\n",
      "[69]\tvalidation_0-logloss:0.00766\n",
      "[70]\tvalidation_0-logloss:0.00749\n",
      "[71]\tvalidation_0-logloss:0.00739\n",
      "[72]\tvalidation_0-logloss:0.00719\n",
      "[73]\tvalidation_0-logloss:0.00705\n",
      "[74]\tvalidation_0-logloss:0.00693\n",
      "[75]\tvalidation_0-logloss:0.00682\n",
      "[76]\tvalidation_0-logloss:0.00669\n",
      "[77]\tvalidation_0-logloss:0.00661\n",
      "[78]\tvalidation_0-logloss:0.00655\n",
      "[79]\tvalidation_0-logloss:0.00644\n",
      "[80]\tvalidation_0-logloss:0.00632\n",
      "[81]\tvalidation_0-logloss:0.00624\n",
      "[82]\tvalidation_0-logloss:0.00618\n",
      "[83]\tvalidation_0-logloss:0.00609\n",
      "[84]\tvalidation_0-logloss:0.00604\n",
      "[85]\tvalidation_0-logloss:0.00595\n",
      "[86]\tvalidation_0-logloss:0.00589\n",
      "[87]\tvalidation_0-logloss:0.00586\n",
      "[88]\tvalidation_0-logloss:0.00578\n",
      "[89]\tvalidation_0-logloss:0.00578\n",
      "[90]\tvalidation_0-logloss:0.00572\n",
      "[91]\tvalidation_0-logloss:0.00566\n",
      "[92]\tvalidation_0-logloss:0.00565\n",
      "[93]\tvalidation_0-logloss:0.00563\n",
      "[94]\tvalidation_0-logloss:0.00559\n",
      "[95]\tvalidation_0-logloss:0.00554\n",
      "[96]\tvalidation_0-logloss:0.00558\n",
      "[97]\tvalidation_0-logloss:0.00552\n",
      "[98]\tvalidation_0-logloss:0.00548\n",
      "[99]\tvalidation_0-logloss:0.00543\n"
     ]
    },
    {
     "data": {
      "text/html": [
       "<style>#sk-container-id-2 {color: black;background-color: white;}#sk-container-id-2 pre{padding: 0;}#sk-container-id-2 div.sk-toggleable {background-color: white;}#sk-container-id-2 label.sk-toggleable__label {cursor: pointer;display: block;width: 100%;margin-bottom: 0;padding: 0.3em;box-sizing: border-box;text-align: center;}#sk-container-id-2 label.sk-toggleable__label-arrow:before {content: \"▸\";float: left;margin-right: 0.25em;color: #696969;}#sk-container-id-2 label.sk-toggleable__label-arrow:hover:before {color: black;}#sk-container-id-2 div.sk-estimator:hover label.sk-toggleable__label-arrow:before {color: black;}#sk-container-id-2 div.sk-toggleable__content {max-height: 0;max-width: 0;overflow: hidden;text-align: left;background-color: #f0f8ff;}#sk-container-id-2 div.sk-toggleable__content pre {margin: 0.2em;color: black;border-radius: 0.25em;background-color: #f0f8ff;}#sk-container-id-2 input.sk-toggleable__control:checked~div.sk-toggleable__content {max-height: 200px;max-width: 100%;overflow: auto;}#sk-container-id-2 input.sk-toggleable__control:checked~label.sk-toggleable__label-arrow:before {content: \"▾\";}#sk-container-id-2 div.sk-estimator input.sk-toggleable__control:checked~label.sk-toggleable__label {background-color: #d4ebff;}#sk-container-id-2 div.sk-label input.sk-toggleable__control:checked~label.sk-toggleable__label {background-color: #d4ebff;}#sk-container-id-2 input.sk-hidden--visually {border: 0;clip: rect(1px 1px 1px 1px);clip: rect(1px, 1px, 1px, 1px);height: 1px;margin: -1px;overflow: hidden;padding: 0;position: absolute;width: 1px;}#sk-container-id-2 div.sk-estimator {font-family: monospace;background-color: #f0f8ff;border: 1px dotted black;border-radius: 0.25em;box-sizing: border-box;margin-bottom: 0.5em;}#sk-container-id-2 div.sk-estimator:hover {background-color: #d4ebff;}#sk-container-id-2 div.sk-parallel-item::after {content: \"\";width: 100%;border-bottom: 1px solid gray;flex-grow: 1;}#sk-container-id-2 div.sk-label:hover label.sk-toggleable__label {background-color: #d4ebff;}#sk-container-id-2 div.sk-serial::before {content: \"\";position: absolute;border-left: 1px solid gray;box-sizing: border-box;top: 0;bottom: 0;left: 50%;z-index: 0;}#sk-container-id-2 div.sk-serial {display: flex;flex-direction: column;align-items: center;background-color: white;padding-right: 0.2em;padding-left: 0.2em;position: relative;}#sk-container-id-2 div.sk-item {position: relative;z-index: 1;}#sk-container-id-2 div.sk-parallel {display: flex;align-items: stretch;justify-content: center;background-color: white;position: relative;}#sk-container-id-2 div.sk-item::before, #sk-container-id-2 div.sk-parallel-item::before {content: \"\";position: absolute;border-left: 1px solid gray;box-sizing: border-box;top: 0;bottom: 0;left: 50%;z-index: -1;}#sk-container-id-2 div.sk-parallel-item {display: flex;flex-direction: column;z-index: 1;position: relative;background-color: white;}#sk-container-id-2 div.sk-parallel-item:first-child::after {align-self: flex-end;width: 50%;}#sk-container-id-2 div.sk-parallel-item:last-child::after {align-self: flex-start;width: 50%;}#sk-container-id-2 div.sk-parallel-item:only-child::after {width: 0;}#sk-container-id-2 div.sk-dashed-wrapped {border: 1px dashed gray;margin: 0 0.4em 0.5em 0.4em;box-sizing: border-box;padding-bottom: 0.4em;background-color: white;}#sk-container-id-2 div.sk-label label {font-family: monospace;font-weight: bold;display: inline-block;line-height: 1.2em;}#sk-container-id-2 div.sk-label-container {text-align: center;}#sk-container-id-2 div.sk-container {/* jupyter's `normalize.less` sets `[hidden] { display: none; }` but bootstrap.min.css set `[hidden] { display: none !important; }` so we also need the `!important` here to be able to override the default hidden behavior on the sphinx rendered scikit-learn.org. See: https://github.com/scikit-learn/scikit-learn/issues/21755 */display: inline-block !important;position: relative;}#sk-container-id-2 div.sk-text-repr-fallback {display: none;}</style><div id=\"sk-container-id-2\" class=\"sk-top-container\"><div class=\"sk-text-repr-fallback\"><pre>XGBClassifier(base_score=0.5, booster=&#x27;gbtree&#x27;, callbacks=None,\n",
       "              colsample_bylevel=1, colsample_bynode=1,\n",
       "              colsample_bytree=0.6696277485925107, early_stopping_rounds=None,\n",
       "              enable_categorical=False, eval_metric=&#x27;logloss&#x27;,\n",
       "              feature_types=None, gamma=0, gpu_id=-1, grow_policy=&#x27;depthwise&#x27;,\n",
       "              importance_type=None, interaction_constraints=&#x27;&#x27;,\n",
       "              learning_rate=0.07789217486714868, max_bin=256,\n",
       "              max_cat_threshold=64, max_cat_to_onehot=4, max_delta_step=0,\n",
       "              max_depth=12, max_leaves=0, min_child_weight=1, missing=nan,\n",
       "              monotone_constraints=&#x27;()&#x27;, n_estimators=100, n_jobs=0,\n",
       "              num_parallel_tree=1, predictor=&#x27;auto&#x27;, random_state=0, ...)</pre><b>In a Jupyter environment, please rerun this cell to show the HTML representation or trust the notebook. <br />On GitHub, the HTML representation is unable to render, please try loading this page with nbviewer.org.</b></div><div class=\"sk-container\" hidden><div class=\"sk-item\"><div class=\"sk-estimator sk-toggleable\"><input class=\"sk-toggleable__control sk-hidden--visually\" id=\"sk-estimator-id-2\" type=\"checkbox\" checked><label for=\"sk-estimator-id-2\" class=\"sk-toggleable__label sk-toggleable__label-arrow\">XGBClassifier</label><div class=\"sk-toggleable__content\"><pre>XGBClassifier(base_score=0.5, booster=&#x27;gbtree&#x27;, callbacks=None,\n",
       "              colsample_bylevel=1, colsample_bynode=1,\n",
       "              colsample_bytree=0.6696277485925107, early_stopping_rounds=None,\n",
       "              enable_categorical=False, eval_metric=&#x27;logloss&#x27;,\n",
       "              feature_types=None, gamma=0, gpu_id=-1, grow_policy=&#x27;depthwise&#x27;,\n",
       "              importance_type=None, interaction_constraints=&#x27;&#x27;,\n",
       "              learning_rate=0.07789217486714868, max_bin=256,\n",
       "              max_cat_threshold=64, max_cat_to_onehot=4, max_delta_step=0,\n",
       "              max_depth=12, max_leaves=0, min_child_weight=1, missing=nan,\n",
       "              monotone_constraints=&#x27;()&#x27;, n_estimators=100, n_jobs=0,\n",
       "              num_parallel_tree=1, predictor=&#x27;auto&#x27;, random_state=0, ...)</pre></div></div></div></div></div>"
      ],
      "text/plain": [
       "XGBClassifier(base_score=0.5, booster='gbtree', callbacks=None,\n",
       "              colsample_bylevel=1, colsample_bynode=1,\n",
       "              colsample_bytree=0.6696277485925107, early_stopping_rounds=None,\n",
       "              enable_categorical=False, eval_metric='logloss',\n",
       "              feature_types=None, gamma=0, gpu_id=-1, grow_policy='depthwise',\n",
       "              importance_type=None, interaction_constraints='',\n",
       "              learning_rate=0.07789217486714868, max_bin=256,\n",
       "              max_cat_threshold=64, max_cat_to_onehot=4, max_delta_step=0,\n",
       "              max_depth=12, max_leaves=0, min_child_weight=1, missing=nan,\n",
       "              monotone_constraints='()', n_estimators=100, n_jobs=0,\n",
       "              num_parallel_tree=1, predictor='auto', random_state=0, ...)"
      ]
     },
     "execution_count": 19,
     "metadata": {},
     "output_type": "execute_result"
    }
   ],
   "source": [
    "# fit model no training data\n",
    "xgb_model = XGBClassifier(**params)\n",
    "xgb_model.fit(X_train, y_train, eval_set=[(X_val, y_val)])"
   ]
  },
  {
   "cell_type": "code",
   "execution_count": 20,
   "id": "92e21780-2fc2-480d-9ec1-b98ec0d37bf9",
   "metadata": {},
   "outputs": [],
   "source": [
    "y_pred = xgb_model.predict(X_test)"
   ]
  },
  {
   "cell_type": "code",
   "execution_count": 22,
   "id": "393cc129-b37a-4f44-83bd-dc8af59c8568",
   "metadata": {},
   "outputs": [
    {
     "name": "stdout",
     "output_type": "stream",
     "text": [
      "10.847814639283834\n"
     ]
    }
   ],
   "source": [
    "from sklearn.metrics import f1_score\n",
    "f1 = f1_score(y_test, y_pred)*100\n",
    "print(f1)"
   ]
  },
  {
   "cell_type": "markdown",
   "id": "6a9d1da9-9145-4e6f-8850-e49bce313077",
   "metadata": {},
   "source": [
    "### LightGBM"
   ]
  },
  {
   "cell_type": "code",
   "execution_count": 16,
   "id": "3fdbe4b3-14a8-41ae-839e-a635a3600c9b",
   "metadata": {},
   "outputs": [
    {
     "name": "stdout",
     "output_type": "stream",
     "text": [
      "\n",
      "Usage:   \n",
      "  pip install [options] <requirement specifier> [package-index-options] ...\n",
      "  pip install [options] -r <requirements file> [package-index-options] ...\n",
      "  pip install [options] [-e] <vcs project url> ...\n",
      "  pip install [options] [-e] <local project path> ...\n",
      "  pip install [options] <archive url/path> ...\n",
      "\n",
      "no such option: --install-option\n"
     ]
    }
   ],
   "source": [
    "!pip install lightgbm --install-option=--gpu"
   ]
  },
  {
   "cell_type": "code",
   "execution_count": null,
   "id": "2f8d3c18-ae48-42a8-a151-68b8d585a701",
   "metadata": {},
   "outputs": [],
   "source": [
    "!pip list | grep lightgbm"
   ]
  },
  {
   "cell_type": "code",
   "execution_count": 14,
   "id": "d97ed304-8874-44a2-84ad-1601352704c1",
   "metadata": {},
   "outputs": [
    {
     "name": "stdout",
     "output_type": "stream",
     "text": [
      "{'n_estimators': 100, 'num_leaves': 151, 'learning_rate': 0.005406818158646124, 'reg_lambda': 0.11657290823283885, 'reg_alpha': 1.4133499580844153, 'scale_pos_weight': 9.975800657094542, 'force_col_wise': True, 'device': 'cuda:0'}\n"
     ]
    }
   ],
   "source": [
    "import numpy as np\n",
    "\n",
    "lgbm_params = {\n",
    "    'n_estimators': 100,\n",
    "    'num_leaves': np.random.randint(32, 256),\n",
    "    'learning_rate': 10 ** np.random.uniform(-2.5, -1),  # (0.00316 to 0.1)\n",
    "    'reg_lambda': 10 ** np.random.uniform(-2, 2),        # lambda_l2: (0.01 to 100)\n",
    "    'reg_alpha': 10 ** np.random.uniform(0.01, 0.5),     # lambda_l1: (1.02 to ~3.16)\n",
    "    'scale_pos_weight': np.random.uniform(1, 10),        # class imbalance handling\n",
    "    'force_col_wise': True,\n",
    "    'device': 'cuda:0'\n",
    "}\n",
    "\n",
    "print(lgbm_params)"
   ]
  },
  {
   "cell_type": "code",
   "execution_count": 15,
   "id": "23454062-8f11-42c2-82b2-2ceb9c780bda",
   "metadata": {},
   "outputs": [
    {
     "name": "stderr",
     "output_type": "stream",
     "text": [
      "[LightGBM] [Fatal] Unknown device type cuda:0\n"
     ]
    },
    {
     "ename": "LightGBMError",
     "evalue": "Unknown device type cuda:0",
     "output_type": "error",
     "traceback": [
      "\u001b[0;31m---------------------------------------------------------------------------\u001b[0m",
      "\u001b[0;31mLightGBMError\u001b[0m                             Traceback (most recent call last)",
      "Cell \u001b[0;32mIn[15], line 5\u001b[0m\n\u001b[1;32m      1\u001b[0m \u001b[38;5;28;01mfrom\u001b[39;00m \u001b[38;5;21;01mlightgbm\u001b[39;00m \u001b[38;5;28;01mimport\u001b[39;00m LGBMClassifier, early_stopping, log_evaluation\n\u001b[1;32m      3\u001b[0m lgbm_model \u001b[38;5;241m=\u001b[39m LGBMClassifier(objective\u001b[38;5;241m=\u001b[39m\u001b[38;5;124m'\u001b[39m\u001b[38;5;124mbinary\u001b[39m\u001b[38;5;124m'\u001b[39m, boosting_type\u001b[38;5;241m=\u001b[39m\u001b[38;5;124m'\u001b[39m\u001b[38;5;124mgbdt\u001b[39m\u001b[38;5;124m'\u001b[39m, random_state\u001b[38;5;241m=\u001b[39m\u001b[38;5;241m42\u001b[39m, \u001b[38;5;241m*\u001b[39m\u001b[38;5;241m*\u001b[39mlgbm_params)\n\u001b[0;32m----> 5\u001b[0m \u001b[43mlgbm_model\u001b[49m\u001b[38;5;241;43m.\u001b[39;49m\u001b[43mfit\u001b[49m\u001b[43m(\u001b[49m\n\u001b[1;32m      6\u001b[0m \u001b[43m    \u001b[49m\u001b[43mX_train\u001b[49m\u001b[43m,\u001b[49m\u001b[43m \u001b[49m\u001b[43my_train\u001b[49m\u001b[43m,\u001b[49m\n\u001b[1;32m      7\u001b[0m \u001b[43m    \u001b[49m\u001b[43meval_set\u001b[49m\u001b[38;5;241;43m=\u001b[39;49m\u001b[43m[\u001b[49m\u001b[43m(\u001b[49m\u001b[43mX_val\u001b[49m\u001b[43m,\u001b[49m\u001b[43m \u001b[49m\u001b[43my_val\u001b[49m\u001b[43m)\u001b[49m\u001b[43m]\u001b[49m\u001b[43m,\u001b[49m\n\u001b[1;32m      8\u001b[0m \u001b[43m    \u001b[49m\u001b[43mcallbacks\u001b[49m\u001b[38;5;241;43m=\u001b[39;49m\u001b[43m[\u001b[49m\n\u001b[1;32m      9\u001b[0m \u001b[43m        \u001b[49m\u001b[43mearly_stopping\u001b[49m\u001b[43m(\u001b[49m\u001b[43mstopping_rounds\u001b[49m\u001b[38;5;241;43m=\u001b[39;49m\u001b[38;5;241;43m20\u001b[39;49m\u001b[43m)\u001b[49m\u001b[43m,\u001b[49m\n\u001b[1;32m     10\u001b[0m \u001b[43m        \u001b[49m\u001b[43mlog_evaluation\u001b[49m\u001b[43m(\u001b[49m\u001b[38;5;241;43m1\u001b[39;49m\u001b[43m)\u001b[49m\u001b[43m  \u001b[49m\u001b[38;5;66;43;03m# set to 1 for logs every round\u001b[39;49;00m\n\u001b[1;32m     11\u001b[0m \u001b[43m    \u001b[49m\u001b[43m]\u001b[49m\n\u001b[1;32m     12\u001b[0m \u001b[43m)\u001b[49m\n",
      "File \u001b[0;32m/opt/conda/lib/python3.9/site-packages/lightgbm/sklearn.py:1560\u001b[0m, in \u001b[0;36mLGBMClassifier.fit\u001b[0;34m(self, X, y, sample_weight, init_score, eval_set, eval_names, eval_sample_weight, eval_class_weight, eval_init_score, eval_metric, feature_name, categorical_feature, callbacks, init_model)\u001b[0m\n\u001b[1;32m   1557\u001b[0m         \u001b[38;5;28;01melse\u001b[39;00m:\n\u001b[1;32m   1558\u001b[0m             valid_sets\u001b[38;5;241m.\u001b[39mappend((valid_x, \u001b[38;5;28mself\u001b[39m\u001b[38;5;241m.\u001b[39m_le\u001b[38;5;241m.\u001b[39mtransform(valid_y)))\n\u001b[0;32m-> 1560\u001b[0m \u001b[38;5;28;43msuper\u001b[39;49m\u001b[43m(\u001b[49m\u001b[43m)\u001b[49m\u001b[38;5;241;43m.\u001b[39;49m\u001b[43mfit\u001b[49m\u001b[43m(\u001b[49m\n\u001b[1;32m   1561\u001b[0m \u001b[43m    \u001b[49m\u001b[43mX\u001b[49m\u001b[43m,\u001b[49m\n\u001b[1;32m   1562\u001b[0m \u001b[43m    \u001b[49m\u001b[43m_y\u001b[49m\u001b[43m,\u001b[49m\n\u001b[1;32m   1563\u001b[0m \u001b[43m    \u001b[49m\u001b[43msample_weight\u001b[49m\u001b[38;5;241;43m=\u001b[39;49m\u001b[43msample_weight\u001b[49m\u001b[43m,\u001b[49m\n\u001b[1;32m   1564\u001b[0m \u001b[43m    \u001b[49m\u001b[43minit_score\u001b[49m\u001b[38;5;241;43m=\u001b[39;49m\u001b[43minit_score\u001b[49m\u001b[43m,\u001b[49m\n\u001b[1;32m   1565\u001b[0m \u001b[43m    \u001b[49m\u001b[43meval_set\u001b[49m\u001b[38;5;241;43m=\u001b[39;49m\u001b[43mvalid_sets\u001b[49m\u001b[43m,\u001b[49m\n\u001b[1;32m   1566\u001b[0m \u001b[43m    \u001b[49m\u001b[43meval_names\u001b[49m\u001b[38;5;241;43m=\u001b[39;49m\u001b[43meval_names\u001b[49m\u001b[43m,\u001b[49m\n\u001b[1;32m   1567\u001b[0m \u001b[43m    \u001b[49m\u001b[43meval_sample_weight\u001b[49m\u001b[38;5;241;43m=\u001b[39;49m\u001b[43meval_sample_weight\u001b[49m\u001b[43m,\u001b[49m\n\u001b[1;32m   1568\u001b[0m \u001b[43m    \u001b[49m\u001b[43meval_class_weight\u001b[49m\u001b[38;5;241;43m=\u001b[39;49m\u001b[43meval_class_weight\u001b[49m\u001b[43m,\u001b[49m\n\u001b[1;32m   1569\u001b[0m \u001b[43m    \u001b[49m\u001b[43meval_init_score\u001b[49m\u001b[38;5;241;43m=\u001b[39;49m\u001b[43meval_init_score\u001b[49m\u001b[43m,\u001b[49m\n\u001b[1;32m   1570\u001b[0m \u001b[43m    \u001b[49m\u001b[43meval_metric\u001b[49m\u001b[38;5;241;43m=\u001b[39;49m\u001b[43meval_metric\u001b[49m\u001b[43m,\u001b[49m\n\u001b[1;32m   1571\u001b[0m \u001b[43m    \u001b[49m\u001b[43mfeature_name\u001b[49m\u001b[38;5;241;43m=\u001b[39;49m\u001b[43mfeature_name\u001b[49m\u001b[43m,\u001b[49m\n\u001b[1;32m   1572\u001b[0m \u001b[43m    \u001b[49m\u001b[43mcategorical_feature\u001b[49m\u001b[38;5;241;43m=\u001b[39;49m\u001b[43mcategorical_feature\u001b[49m\u001b[43m,\u001b[49m\n\u001b[1;32m   1573\u001b[0m \u001b[43m    \u001b[49m\u001b[43mcallbacks\u001b[49m\u001b[38;5;241;43m=\u001b[39;49m\u001b[43mcallbacks\u001b[49m\u001b[43m,\u001b[49m\n\u001b[1;32m   1574\u001b[0m \u001b[43m    \u001b[49m\u001b[43minit_model\u001b[49m\u001b[38;5;241;43m=\u001b[39;49m\u001b[43minit_model\u001b[49m\u001b[43m,\u001b[49m\n\u001b[1;32m   1575\u001b[0m \u001b[43m\u001b[49m\u001b[43m)\u001b[49m\n\u001b[1;32m   1576\u001b[0m \u001b[38;5;28;01mreturn\u001b[39;00m \u001b[38;5;28mself\u001b[39m\n",
      "File \u001b[0;32m/opt/conda/lib/python3.9/site-packages/lightgbm/sklearn.py:1049\u001b[0m, in \u001b[0;36mLGBMModel.fit\u001b[0;34m(self, X, y, sample_weight, init_score, group, eval_set, eval_names, eval_sample_weight, eval_class_weight, eval_init_score, eval_group, eval_metric, feature_name, categorical_feature, callbacks, init_model)\u001b[0m\n\u001b[1;32m   1046\u001b[0m evals_result: _EvalResultDict \u001b[38;5;241m=\u001b[39m {}\n\u001b[1;32m   1047\u001b[0m callbacks\u001b[38;5;241m.\u001b[39mappend(record_evaluation(evals_result))\n\u001b[0;32m-> 1049\u001b[0m \u001b[38;5;28mself\u001b[39m\u001b[38;5;241m.\u001b[39m_Booster \u001b[38;5;241m=\u001b[39m \u001b[43mtrain\u001b[49m\u001b[43m(\u001b[49m\n\u001b[1;32m   1050\u001b[0m \u001b[43m    \u001b[49m\u001b[43mparams\u001b[49m\u001b[38;5;241;43m=\u001b[39;49m\u001b[43mparams\u001b[49m\u001b[43m,\u001b[49m\n\u001b[1;32m   1051\u001b[0m \u001b[43m    \u001b[49m\u001b[43mtrain_set\u001b[49m\u001b[38;5;241;43m=\u001b[39;49m\u001b[43mtrain_set\u001b[49m\u001b[43m,\u001b[49m\n\u001b[1;32m   1052\u001b[0m \u001b[43m    \u001b[49m\u001b[43mnum_boost_round\u001b[49m\u001b[38;5;241;43m=\u001b[39;49m\u001b[38;5;28;43mself\u001b[39;49m\u001b[38;5;241;43m.\u001b[39;49m\u001b[43mn_estimators\u001b[49m\u001b[43m,\u001b[49m\n\u001b[1;32m   1053\u001b[0m \u001b[43m    \u001b[49m\u001b[43mvalid_sets\u001b[49m\u001b[38;5;241;43m=\u001b[39;49m\u001b[43mvalid_sets\u001b[49m\u001b[43m,\u001b[49m\n\u001b[1;32m   1054\u001b[0m \u001b[43m    \u001b[49m\u001b[43mvalid_names\u001b[49m\u001b[38;5;241;43m=\u001b[39;49m\u001b[43meval_names\u001b[49m\u001b[43m,\u001b[49m\n\u001b[1;32m   1055\u001b[0m \u001b[43m    \u001b[49m\u001b[43mfeval\u001b[49m\u001b[38;5;241;43m=\u001b[39;49m\u001b[43meval_metrics_callable\u001b[49m\u001b[43m,\u001b[49m\u001b[43m  \u001b[49m\u001b[38;5;66;43;03m# type: ignore[arg-type]\u001b[39;49;00m\n\u001b[1;32m   1056\u001b[0m \u001b[43m    \u001b[49m\u001b[43minit_model\u001b[49m\u001b[38;5;241;43m=\u001b[39;49m\u001b[43minit_model\u001b[49m\u001b[43m,\u001b[49m\n\u001b[1;32m   1057\u001b[0m \u001b[43m    \u001b[49m\u001b[43mcallbacks\u001b[49m\u001b[38;5;241;43m=\u001b[39;49m\u001b[43mcallbacks\u001b[49m\u001b[43m,\u001b[49m\n\u001b[1;32m   1058\u001b[0m \u001b[43m\u001b[49m\u001b[43m)\u001b[49m\n\u001b[1;32m   1060\u001b[0m \u001b[38;5;66;03m# This populates the property self.n_features_, the number of features in the fitted model,\u001b[39;00m\n\u001b[1;32m   1061\u001b[0m \u001b[38;5;66;03m# and so should only be set after fitting.\u001b[39;00m\n\u001b[1;32m   1062\u001b[0m \u001b[38;5;66;03m#\u001b[39;00m\n\u001b[1;32m   1063\u001b[0m \u001b[38;5;66;03m# The related property self._n_features_in, which populates self.n_features_in_,\u001b[39;00m\n\u001b[1;32m   1064\u001b[0m \u001b[38;5;66;03m# is set BEFORE fitting.\u001b[39;00m\n\u001b[1;32m   1065\u001b[0m \u001b[38;5;28mself\u001b[39m\u001b[38;5;241m.\u001b[39m_n_features \u001b[38;5;241m=\u001b[39m \u001b[38;5;28mself\u001b[39m\u001b[38;5;241m.\u001b[39m_Booster\u001b[38;5;241m.\u001b[39mnum_feature()\n",
      "File \u001b[0;32m/opt/conda/lib/python3.9/site-packages/lightgbm/engine.py:297\u001b[0m, in \u001b[0;36mtrain\u001b[0;34m(params, train_set, num_boost_round, valid_sets, valid_names, feval, init_model, keep_training_booster, callbacks)\u001b[0m\n\u001b[1;32m    295\u001b[0m \u001b[38;5;66;03m# construct booster\u001b[39;00m\n\u001b[1;32m    296\u001b[0m \u001b[38;5;28;01mtry\u001b[39;00m:\n\u001b[0;32m--> 297\u001b[0m     booster \u001b[38;5;241m=\u001b[39m \u001b[43mBooster\u001b[49m\u001b[43m(\u001b[49m\u001b[43mparams\u001b[49m\u001b[38;5;241;43m=\u001b[39;49m\u001b[43mparams\u001b[49m\u001b[43m,\u001b[49m\u001b[43m \u001b[49m\u001b[43mtrain_set\u001b[49m\u001b[38;5;241;43m=\u001b[39;49m\u001b[43mtrain_set\u001b[49m\u001b[43m)\u001b[49m\n\u001b[1;32m    298\u001b[0m     \u001b[38;5;28;01mif\u001b[39;00m is_valid_contain_train:\n\u001b[1;32m    299\u001b[0m         booster\u001b[38;5;241m.\u001b[39mset_train_data_name(train_data_name)\n",
      "File \u001b[0;32m/opt/conda/lib/python3.9/site-packages/lightgbm/basic.py:3656\u001b[0m, in \u001b[0;36mBooster.__init__\u001b[0;34m(self, params, train_set, model_file, model_str)\u001b[0m\n\u001b[1;32m   3649\u001b[0m     \u001b[38;5;28mself\u001b[39m\u001b[38;5;241m.\u001b[39mset_network(\n\u001b[1;32m   3650\u001b[0m         machines\u001b[38;5;241m=\u001b[39mmachines,\n\u001b[1;32m   3651\u001b[0m         local_listen_port\u001b[38;5;241m=\u001b[39mparams[\u001b[38;5;124m\"\u001b[39m\u001b[38;5;124mlocal_listen_port\u001b[39m\u001b[38;5;124m\"\u001b[39m],\n\u001b[1;32m   3652\u001b[0m         listen_time_out\u001b[38;5;241m=\u001b[39mparams\u001b[38;5;241m.\u001b[39mget(\u001b[38;5;124m\"\u001b[39m\u001b[38;5;124mtime_out\u001b[39m\u001b[38;5;124m\"\u001b[39m, \u001b[38;5;241m120\u001b[39m),\n\u001b[1;32m   3653\u001b[0m         num_machines\u001b[38;5;241m=\u001b[39mparams[\u001b[38;5;124m\"\u001b[39m\u001b[38;5;124mnum_machines\u001b[39m\u001b[38;5;124m\"\u001b[39m],\n\u001b[1;32m   3654\u001b[0m     )\n\u001b[1;32m   3655\u001b[0m \u001b[38;5;66;03m# construct booster object\u001b[39;00m\n\u001b[0;32m-> 3656\u001b[0m \u001b[43mtrain_set\u001b[49m\u001b[38;5;241;43m.\u001b[39;49m\u001b[43mconstruct\u001b[49m\u001b[43m(\u001b[49m\u001b[43m)\u001b[49m\n\u001b[1;32m   3657\u001b[0m \u001b[38;5;66;03m# copy the parameters from train_set\u001b[39;00m\n\u001b[1;32m   3658\u001b[0m params\u001b[38;5;241m.\u001b[39mupdate(train_set\u001b[38;5;241m.\u001b[39mget_params())\n",
      "File \u001b[0;32m/opt/conda/lib/python3.9/site-packages/lightgbm/basic.py:2590\u001b[0m, in \u001b[0;36mDataset.construct\u001b[0;34m(self)\u001b[0m\n\u001b[1;32m   2585\u001b[0m             \u001b[38;5;28mself\u001b[39m\u001b[38;5;241m.\u001b[39m_set_init_score_by_predictor(\n\u001b[1;32m   2586\u001b[0m                 predictor\u001b[38;5;241m=\u001b[39m\u001b[38;5;28mself\u001b[39m\u001b[38;5;241m.\u001b[39m_predictor, data\u001b[38;5;241m=\u001b[39m\u001b[38;5;28mself\u001b[39m\u001b[38;5;241m.\u001b[39mdata, used_indices\u001b[38;5;241m=\u001b[39mused_indices\n\u001b[1;32m   2587\u001b[0m             )\n\u001b[1;32m   2588\u001b[0m \u001b[38;5;28;01melse\u001b[39;00m:\n\u001b[1;32m   2589\u001b[0m     \u001b[38;5;66;03m# create train\u001b[39;00m\n\u001b[0;32m-> 2590\u001b[0m     \u001b[38;5;28;43mself\u001b[39;49m\u001b[38;5;241;43m.\u001b[39;49m\u001b[43m_lazy_init\u001b[49m\u001b[43m(\u001b[49m\n\u001b[1;32m   2591\u001b[0m \u001b[43m        \u001b[49m\u001b[43mdata\u001b[49m\u001b[38;5;241;43m=\u001b[39;49m\u001b[38;5;28;43mself\u001b[39;49m\u001b[38;5;241;43m.\u001b[39;49m\u001b[43mdata\u001b[49m\u001b[43m,\u001b[49m\n\u001b[1;32m   2592\u001b[0m \u001b[43m        \u001b[49m\u001b[43mlabel\u001b[49m\u001b[38;5;241;43m=\u001b[39;49m\u001b[38;5;28;43mself\u001b[39;49m\u001b[38;5;241;43m.\u001b[39;49m\u001b[43mlabel\u001b[49m\u001b[43m,\u001b[49m\n\u001b[1;32m   2593\u001b[0m \u001b[43m        \u001b[49m\u001b[43mreference\u001b[49m\u001b[38;5;241;43m=\u001b[39;49m\u001b[38;5;28;43;01mNone\u001b[39;49;00m\u001b[43m,\u001b[49m\n\u001b[1;32m   2594\u001b[0m \u001b[43m        \u001b[49m\u001b[43mweight\u001b[49m\u001b[38;5;241;43m=\u001b[39;49m\u001b[38;5;28;43mself\u001b[39;49m\u001b[38;5;241;43m.\u001b[39;49m\u001b[43mweight\u001b[49m\u001b[43m,\u001b[49m\n\u001b[1;32m   2595\u001b[0m \u001b[43m        \u001b[49m\u001b[43mgroup\u001b[49m\u001b[38;5;241;43m=\u001b[39;49m\u001b[38;5;28;43mself\u001b[39;49m\u001b[38;5;241;43m.\u001b[39;49m\u001b[43mgroup\u001b[49m\u001b[43m,\u001b[49m\n\u001b[1;32m   2596\u001b[0m \u001b[43m        \u001b[49m\u001b[43minit_score\u001b[49m\u001b[38;5;241;43m=\u001b[39;49m\u001b[38;5;28;43mself\u001b[39;49m\u001b[38;5;241;43m.\u001b[39;49m\u001b[43minit_score\u001b[49m\u001b[43m,\u001b[49m\n\u001b[1;32m   2597\u001b[0m \u001b[43m        \u001b[49m\u001b[43mpredictor\u001b[49m\u001b[38;5;241;43m=\u001b[39;49m\u001b[38;5;28;43mself\u001b[39;49m\u001b[38;5;241;43m.\u001b[39;49m\u001b[43m_predictor\u001b[49m\u001b[43m,\u001b[49m\n\u001b[1;32m   2598\u001b[0m \u001b[43m        \u001b[49m\u001b[43mfeature_name\u001b[49m\u001b[38;5;241;43m=\u001b[39;49m\u001b[38;5;28;43mself\u001b[39;49m\u001b[38;5;241;43m.\u001b[39;49m\u001b[43mfeature_name\u001b[49m\u001b[43m,\u001b[49m\n\u001b[1;32m   2599\u001b[0m \u001b[43m        \u001b[49m\u001b[43mcategorical_feature\u001b[49m\u001b[38;5;241;43m=\u001b[39;49m\u001b[38;5;28;43mself\u001b[39;49m\u001b[38;5;241;43m.\u001b[39;49m\u001b[43mcategorical_feature\u001b[49m\u001b[43m,\u001b[49m\n\u001b[1;32m   2600\u001b[0m \u001b[43m        \u001b[49m\u001b[43mparams\u001b[49m\u001b[38;5;241;43m=\u001b[39;49m\u001b[38;5;28;43mself\u001b[39;49m\u001b[38;5;241;43m.\u001b[39;49m\u001b[43mparams\u001b[49m\u001b[43m,\u001b[49m\n\u001b[1;32m   2601\u001b[0m \u001b[43m        \u001b[49m\u001b[43mposition\u001b[49m\u001b[38;5;241;43m=\u001b[39;49m\u001b[38;5;28;43mself\u001b[39;49m\u001b[38;5;241;43m.\u001b[39;49m\u001b[43mposition\u001b[49m\u001b[43m,\u001b[49m\n\u001b[1;32m   2602\u001b[0m \u001b[43m    \u001b[49m\u001b[43m)\u001b[49m\n\u001b[1;32m   2603\u001b[0m \u001b[38;5;28;01mif\u001b[39;00m \u001b[38;5;28mself\u001b[39m\u001b[38;5;241m.\u001b[39mfree_raw_data:\n\u001b[1;32m   2604\u001b[0m     \u001b[38;5;28mself\u001b[39m\u001b[38;5;241m.\u001b[39mdata \u001b[38;5;241m=\u001b[39m \u001b[38;5;28;01mNone\u001b[39;00m\n",
      "File \u001b[0;32m/opt/conda/lib/python3.9/site-packages/lightgbm/basic.py:2187\u001b[0m, in \u001b[0;36mDataset._lazy_init\u001b[0;34m(self, data, label, reference, weight, group, init_score, predictor, feature_name, categorical_feature, params, position)\u001b[0m\n\u001b[1;32m   2185\u001b[0m     \u001b[38;5;28mself\u001b[39m\u001b[38;5;241m.\u001b[39m__init_from_csc(data, params_str, ref_dataset)\n\u001b[1;32m   2186\u001b[0m \u001b[38;5;28;01melif\u001b[39;00m \u001b[38;5;28misinstance\u001b[39m(data, np\u001b[38;5;241m.\u001b[39mndarray):\n\u001b[0;32m-> 2187\u001b[0m     \u001b[38;5;28;43mself\u001b[39;49m\u001b[38;5;241;43m.\u001b[39;49m\u001b[43m__init_from_np2d\u001b[49m\u001b[43m(\u001b[49m\u001b[43mdata\u001b[49m\u001b[43m,\u001b[49m\u001b[43m \u001b[49m\u001b[43mparams_str\u001b[49m\u001b[43m,\u001b[49m\u001b[43m \u001b[49m\u001b[43mref_dataset\u001b[49m\u001b[43m)\u001b[49m\n\u001b[1;32m   2188\u001b[0m \u001b[38;5;28;01melif\u001b[39;00m _is_pyarrow_table(data):\n\u001b[1;32m   2189\u001b[0m     \u001b[38;5;28mself\u001b[39m\u001b[38;5;241m.\u001b[39m__init_from_pyarrow_table(data, params_str, ref_dataset)\n",
      "File \u001b[0;32m/opt/conda/lib/python3.9/site-packages/lightgbm/basic.py:2318\u001b[0m, in \u001b[0;36mDataset.__init_from_np2d\u001b[0;34m(self, mat, params_str, ref_dataset)\u001b[0m\n\u001b[1;32m   2316\u001b[0m data, layout \u001b[38;5;241m=\u001b[39m _np2d_to_np1d(mat)\n\u001b[1;32m   2317\u001b[0m ptr_data, type_ptr_data, _ \u001b[38;5;241m=\u001b[39m _c_float_array(data)\n\u001b[0;32m-> 2318\u001b[0m \u001b[43m_safe_call\u001b[49m\u001b[43m(\u001b[49m\n\u001b[1;32m   2319\u001b[0m \u001b[43m    \u001b[49m\u001b[43m_LIB\u001b[49m\u001b[38;5;241;43m.\u001b[39;49m\u001b[43mLGBM_DatasetCreateFromMat\u001b[49m\u001b[43m(\u001b[49m\n\u001b[1;32m   2320\u001b[0m \u001b[43m        \u001b[49m\u001b[43mptr_data\u001b[49m\u001b[43m,\u001b[49m\n\u001b[1;32m   2321\u001b[0m \u001b[43m        \u001b[49m\u001b[43mctypes\u001b[49m\u001b[38;5;241;43m.\u001b[39;49m\u001b[43mc_int\u001b[49m\u001b[43m(\u001b[49m\u001b[43mtype_ptr_data\u001b[49m\u001b[43m)\u001b[49m\u001b[43m,\u001b[49m\n\u001b[1;32m   2322\u001b[0m \u001b[43m        \u001b[49m\u001b[43mctypes\u001b[49m\u001b[38;5;241;43m.\u001b[39;49m\u001b[43mc_int32\u001b[49m\u001b[43m(\u001b[49m\u001b[43mmat\u001b[49m\u001b[38;5;241;43m.\u001b[39;49m\u001b[43mshape\u001b[49m\u001b[43m[\u001b[49m\u001b[38;5;241;43m0\u001b[39;49m\u001b[43m]\u001b[49m\u001b[43m)\u001b[49m\u001b[43m,\u001b[49m\n\u001b[1;32m   2323\u001b[0m \u001b[43m        \u001b[49m\u001b[43mctypes\u001b[49m\u001b[38;5;241;43m.\u001b[39;49m\u001b[43mc_int32\u001b[49m\u001b[43m(\u001b[49m\u001b[43mmat\u001b[49m\u001b[38;5;241;43m.\u001b[39;49m\u001b[43mshape\u001b[49m\u001b[43m[\u001b[49m\u001b[38;5;241;43m1\u001b[39;49m\u001b[43m]\u001b[49m\u001b[43m)\u001b[49m\u001b[43m,\u001b[49m\n\u001b[1;32m   2324\u001b[0m \u001b[43m        \u001b[49m\u001b[43mctypes\u001b[49m\u001b[38;5;241;43m.\u001b[39;49m\u001b[43mc_int\u001b[49m\u001b[43m(\u001b[49m\u001b[43mlayout\u001b[49m\u001b[43m)\u001b[49m\u001b[43m,\u001b[49m\n\u001b[1;32m   2325\u001b[0m \u001b[43m        \u001b[49m\u001b[43m_c_str\u001b[49m\u001b[43m(\u001b[49m\u001b[43mparams_str\u001b[49m\u001b[43m)\u001b[49m\u001b[43m,\u001b[49m\n\u001b[1;32m   2326\u001b[0m \u001b[43m        \u001b[49m\u001b[43mref_dataset\u001b[49m\u001b[43m,\u001b[49m\n\u001b[1;32m   2327\u001b[0m \u001b[43m        \u001b[49m\u001b[43mctypes\u001b[49m\u001b[38;5;241;43m.\u001b[39;49m\u001b[43mbyref\u001b[49m\u001b[43m(\u001b[49m\u001b[38;5;28;43mself\u001b[39;49m\u001b[38;5;241;43m.\u001b[39;49m\u001b[43m_handle\u001b[49m\u001b[43m)\u001b[49m\u001b[43m,\u001b[49m\n\u001b[1;32m   2328\u001b[0m \u001b[43m    \u001b[49m\u001b[43m)\u001b[49m\n\u001b[1;32m   2329\u001b[0m \u001b[43m\u001b[49m\u001b[43m)\u001b[49m\n\u001b[1;32m   2330\u001b[0m \u001b[38;5;28;01mreturn\u001b[39;00m \u001b[38;5;28mself\u001b[39m\n",
      "File \u001b[0;32m/opt/conda/lib/python3.9/site-packages/lightgbm/basic.py:313\u001b[0m, in \u001b[0;36m_safe_call\u001b[0;34m(ret)\u001b[0m\n\u001b[1;32m    305\u001b[0m \u001b[38;5;250m\u001b[39m\u001b[38;5;124;03m\"\"\"Check the return value from C API call.\u001b[39;00m\n\u001b[1;32m    306\u001b[0m \n\u001b[1;32m    307\u001b[0m \u001b[38;5;124;03mParameters\u001b[39;00m\n\u001b[0;32m   (...)\u001b[0m\n\u001b[1;32m    310\u001b[0m \u001b[38;5;124;03m    The return value from C API calls.\u001b[39;00m\n\u001b[1;32m    311\u001b[0m \u001b[38;5;124;03m\"\"\"\u001b[39;00m\n\u001b[1;32m    312\u001b[0m \u001b[38;5;28;01mif\u001b[39;00m ret \u001b[38;5;241m!=\u001b[39m \u001b[38;5;241m0\u001b[39m:\n\u001b[0;32m--> 313\u001b[0m     \u001b[38;5;28;01mraise\u001b[39;00m LightGBMError(_LIB\u001b[38;5;241m.\u001b[39mLGBM_GetLastError()\u001b[38;5;241m.\u001b[39mdecode(\u001b[38;5;124m\"\u001b[39m\u001b[38;5;124mutf-8\u001b[39m\u001b[38;5;124m\"\u001b[39m))\n",
      "\u001b[0;31mLightGBMError\u001b[0m: Unknown device type cuda:0"
     ]
    }
   ],
   "source": [
    "from lightgbm import LGBMClassifier, early_stopping, log_evaluation\n",
    "\n",
    "lgbm_model = LGBMClassifier(objective='binary', boosting_type='gbdt', random_state=42, **lgbm_params)\n",
    "\n",
    "lgbm_model.fit(\n",
    "    X_train, y_train,\n",
    "    eval_set=[(X_val, y_val)],\n",
    "    callbacks=[\n",
    "        early_stopping(stopping_rounds=20),\n",
    "        log_evaluation(1)  # set to 1 for logs every round\n",
    "    ]\n",
    ")"
   ]
  },
  {
   "cell_type": "code",
   "execution_count": 10,
   "id": "ba967b7f-6eae-403c-be6b-89bd72421bf9",
   "metadata": {},
   "outputs": [],
   "source": [
    "y_pred = lgbm_model.predict(X_test)"
   ]
  },
  {
   "cell_type": "code",
   "execution_count": 11,
   "id": "a37b35a4-d085-4e52-86a6-19595bb7820f",
   "metadata": {},
   "outputs": [
    {
     "name": "stdout",
     "output_type": "stream",
     "text": [
      "11.382925611582625\n"
     ]
    }
   ],
   "source": [
    "from sklearn.metrics import f1_score\n",
    "f1 = f1_score(y_test, y_pred)*100\n",
    "print(f1)"
   ]
  },
  {
   "cell_type": "code",
   "execution_count": null,
   "id": "44d99f6c-68fe-4594-812a-3b2f0d7cda94",
   "metadata": {},
   "outputs": [],
   "source": []
  }
 ],
 "metadata": {
  "kernelspec": {
   "display_name": "PyTorch",
   "language": "python",
   "name": "python3"
  },
  "language_info": {
   "codemirror_mode": {
    "name": "ipython",
    "version": 3
   },
   "file_extension": ".py",
   "mimetype": "text/x-python",
   "name": "python",
   "nbconvert_exporter": "python",
   "pygments_lexer": "ipython3",
   "version": "3.9.16"
  }
 },
 "nbformat": 4,
 "nbformat_minor": 5
}
