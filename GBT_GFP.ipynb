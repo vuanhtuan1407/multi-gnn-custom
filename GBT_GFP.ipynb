{
 "cells": [
  {
   "metadata": {},
   "cell_type": "markdown",
   "source": "## This code below is only for running on Kaggle",
   "id": "8737e65174fccaab"
  },
  {
   "cell_type": "code",
   "execution_count": 1,
   "id": "a5ea058e",
   "metadata": {
    "execution": {
     "iopub.execute_input": "2025-04-19T16:54:16.224750Z",
     "iopub.status.busy": "2025-04-19T16:54:16.224366Z",
     "iopub.status.idle": "2025-04-19T16:54:20.591103Z",
     "shell.execute_reply": "2025-04-19T16:54:20.590366Z"
    },
    "papermill": {
     "duration": 4.379034,
     "end_time": "2025-04-19T16:54:20.592453",
     "exception": false,
     "start_time": "2025-04-19T16:54:16.213419",
     "status": "completed"
    },
    "tags": []
   },
   "outputs": [
    {
     "name": "stdout",
     "output_type": "stream",
     "text": [
      "True\n"
     ]
    }
   ],
   "source": [
    "import torch\n",
    "\n",
    "print(torch.cuda.is_available())"
   ]
  },
  {
   "cell_type": "code",
   "execution_count": 2,
   "id": "90caa2cb",
   "metadata": {
    "execution": {
     "iopub.execute_input": "2025-04-19T16:54:20.601922Z",
     "iopub.status.busy": "2025-04-19T16:54:20.601569Z",
     "iopub.status.idle": "2025-04-19T16:54:20.860662Z",
     "shell.execute_reply": "2025-04-19T16:54:20.859645Z"
    },
    "papermill": {
     "duration": 0.265185,
     "end_time": "2025-04-19T16:54:20.862082",
     "exception": false,
     "start_time": "2025-04-19T16:54:20.596897",
     "status": "completed"
    },
    "tags": []
   },
   "outputs": [
    {
     "name": "stdout",
     "output_type": "stream",
     "text": [
      "Sat Apr 19 16:54:20 2025       \r\n",
      "+-----------------------------------------------------------------------------------------+\r\n",
      "| NVIDIA-SMI 560.35.03              Driver Version: 560.35.03      CUDA Version: 12.6     |\r\n",
      "|-----------------------------------------+------------------------+----------------------+\r\n",
      "| GPU  Name                 Persistence-M | Bus-Id          Disp.A | Volatile Uncorr. ECC |\r\n",
      "| Fan  Temp   Perf          Pwr:Usage/Cap |           Memory-Usage | GPU-Util  Compute M. |\r\n",
      "|                                         |                        |               MIG M. |\r\n",
      "|=========================================+========================+======================|\r\n",
      "|   0  Tesla T4                       Off |   00000000:00:04.0 Off |                    0 |\r\n",
      "| N/A   38C    P8              9W /   70W |       3MiB /  15360MiB |      0%      Default |\r\n",
      "|                                         |                        |                  N/A |\r\n",
      "+-----------------------------------------+------------------------+----------------------+\r\n",
      "|   1  Tesla T4                       Off |   00000000:00:05.0 Off |                    0 |\r\n",
      "| N/A   40C    P8              9W /   70W |       3MiB /  15360MiB |      0%      Default |\r\n",
      "|                                         |                        |                  N/A |\r\n",
      "+-----------------------------------------+------------------------+----------------------+\r\n",
      "                                                                                         \r\n",
      "+-----------------------------------------------------------------------------------------+\r\n",
      "| Processes:                                                                              |\r\n",
      "|  GPU   GI   CI        PID   Type   Process name                              GPU Memory |\r\n",
      "|        ID   ID                                                               Usage      |\r\n",
      "|=========================================================================================|\r\n",
      "|  No running processes found                                                             |\r\n",
      "+-----------------------------------------------------------------------------------------+\r\n"
     ]
    }
   ],
   "source": [
    "!nvidia-smi"
   ]
  },
  {
   "cell_type": "code",
   "execution_count": 3,
   "id": "e7e75e51",
   "metadata": {
    "execution": {
     "iopub.execute_input": "2025-04-19T16:54:20.871804Z",
     "iopub.status.busy": "2025-04-19T16:54:20.871549Z",
     "iopub.status.idle": "2025-04-19T16:54:23.848002Z",
     "shell.execute_reply": "2025-04-19T16:54:23.846865Z"
    },
    "papermill": {
     "duration": 2.982971,
     "end_time": "2025-04-19T16:54:23.849650",
     "exception": false,
     "start_time": "2025-04-19T16:54:20.866679",
     "status": "completed"
    },
    "tags": []
   },
   "outputs": [
    {
     "name": "stdout",
     "output_type": "stream",
     "text": [
      "\r\n",
      "\r\n",
      "\r\n",
      "g++ is already the newest version (4:11.2.0-1ubuntu1).\r\n",
      "g++ set to manually installed.\r\n",
      "0 upgraded, 0 newly installed, 0 to remove and 129 not upgraded.\r\n"
     ]
    }
   ],
   "source": [
    "!apt-get install g++"
   ]
  },
  {
   "cell_type": "code",
   "execution_count": 4,
   "id": "c27be9e1",
   "metadata": {
    "execution": {
     "iopub.execute_input": "2025-04-19T16:54:23.861866Z",
     "iopub.status.busy": "2025-04-19T16:54:23.861582Z",
     "iopub.status.idle": "2025-04-19T16:54:28.692118Z",
     "shell.execute_reply": "2025-04-19T16:54:28.691290Z"
    },
    "papermill": {
     "duration": 4.838856,
     "end_time": "2025-04-19T16:54:28.694137",
     "exception": false,
     "start_time": "2025-04-19T16:54:23.855281",
     "status": "completed"
    },
    "tags": []
   },
   "outputs": [
    {
     "name": "stdout",
     "output_type": "stream",
     "text": [
      "Requirement already satisfied: cupy-cuda12x in /usr/local/lib/python3.10/dist-packages (12.2.0)\r\n",
      "Requirement already satisfied: numpy<1.27,>=1.20 in /usr/local/lib/python3.10/dist-packages (from cupy-cuda12x) (1.26.4)\r\n",
      "Requirement already satisfied: fastrlock>=0.5 in /usr/local/lib/python3.10/dist-packages (from cupy-cuda12x) (0.8.2)\r\n",
      "Requirement already satisfied: mkl_fft in /usr/local/lib/python3.10/dist-packages (from numpy<1.27,>=1.20->cupy-cuda12x) (1.3.8)\r\n",
      "Requirement already satisfied: mkl_random in /usr/local/lib/python3.10/dist-packages (from numpy<1.27,>=1.20->cupy-cuda12x) (1.2.4)\r\n",
      "Requirement already satisfied: mkl_umath in /usr/local/lib/python3.10/dist-packages (from numpy<1.27,>=1.20->cupy-cuda12x) (0.1.1)\r\n",
      "Requirement already satisfied: mkl in /usr/local/lib/python3.10/dist-packages (from numpy<1.27,>=1.20->cupy-cuda12x) (2025.0.1)\r\n",
      "Requirement already satisfied: tbb4py in /usr/local/lib/python3.10/dist-packages (from numpy<1.27,>=1.20->cupy-cuda12x) (2022.0.0)\r\n",
      "Requirement already satisfied: mkl-service in /usr/local/lib/python3.10/dist-packages (from numpy<1.27,>=1.20->cupy-cuda12x) (2.4.1)\r\n",
      "Requirement already satisfied: intel-openmp>=2024 in /usr/local/lib/python3.10/dist-packages (from mkl->numpy<1.27,>=1.20->cupy-cuda12x) (2024.2.0)\r\n",
      "Requirement already satisfied: tbb==2022.* in /usr/local/lib/python3.10/dist-packages (from mkl->numpy<1.27,>=1.20->cupy-cuda12x) (2022.0.0)\r\n",
      "Requirement already satisfied: tcmlib==1.* in /usr/local/lib/python3.10/dist-packages (from tbb==2022.*->mkl->numpy<1.27,>=1.20->cupy-cuda12x) (1.2.0)\r\n",
      "Requirement already satisfied: intel-cmplr-lib-rt in /usr/local/lib/python3.10/dist-packages (from mkl_umath->numpy<1.27,>=1.20->cupy-cuda12x) (2024.2.0)\r\n",
      "Requirement already satisfied: intel-cmplr-lib-ur==2024.2.0 in /usr/local/lib/python3.10/dist-packages (from intel-openmp>=2024->mkl->numpy<1.27,>=1.20->cupy-cuda12x) (2024.2.0)\r\n"
     ]
    }
   ],
   "source": [
    "!pip install cupy-cuda12x"
   ]
  },
  {
   "cell_type": "markdown",
   "id": "bed6a1d3",
   "metadata": {
    "papermill": {
     "duration": 0.004941,
     "end_time": "2025-04-19T16:54:28.704591",
     "exception": false,
     "start_time": "2025-04-19T16:54:28.699650",
     "status": "completed"
    },
    "tags": []
   },
   "source": [
    "### Use formatted_transctions"
   ]
  },
  {
   "cell_type": "code",
   "execution_count": 5,
   "id": "b49ebe1b",
   "metadata": {
    "execution": {
     "iopub.execute_input": "2025-04-19T16:54:28.715836Z",
     "iopub.status.busy": "2025-04-19T16:54:28.715567Z",
     "iopub.status.idle": "2025-04-19T16:54:36.532081Z",
     "shell.execute_reply": "2025-04-19T16:54:36.531082Z"
    },
    "papermill": {
     "duration": 7.824401,
     "end_time": "2025-04-19T16:54:36.534047",
     "exception": false,
     "start_time": "2025-04-19T16:54:28.709646",
     "status": "completed"
    },
    "tags": []
   },
   "outputs": [],
   "source": [
    "import pandas as pd\n",
    "\n",
    "df = pd.read_csv('/kaggle/input/formatted-transactions/formatted_transactions.csv')\n",
    "\n",
    "# split data into X and y\n",
    "X = df.iloc[:,:-1]\n",
    "y = df.iloc[:,-1]"
   ]
  },
  {
   "cell_type": "code",
   "execution_count": 6,
   "id": "a7e2e3a9",
   "metadata": {
    "execution": {
     "iopub.execute_input": "2025-04-19T16:54:36.545617Z",
     "iopub.status.busy": "2025-04-19T16:54:36.545381Z",
     "iopub.status.idle": "2025-04-19T16:54:36.551580Z",
     "shell.execute_reply": "2025-04-19T16:54:36.550972Z"
    },
    "papermill": {
     "duration": 0.013124,
     "end_time": "2025-04-19T16:54:36.552809",
     "exception": false,
     "start_time": "2025-04-19T16:54:36.539685",
     "status": "completed"
    },
    "tags": []
   },
   "outputs": [
    {
     "name": "stdout",
     "output_type": "stream",
     "text": [
      "0 EdgeID\n",
      "1 from_id\n",
      "2 to_id\n",
      "3 Timestamp\n",
      "4 Amount Sent\n",
      "5 Sent Currency\n",
      "6 Amount Received\n",
      "7 Received Currency\n",
      "8 Payment Format\n"
     ]
    }
   ],
   "source": [
    "for (idx, col) in enumerate(X.columns):\n",
    "    print(idx, col)"
   ]
  },
  {
   "cell_type": "code",
   "execution_count": 7,
   "id": "7ce71d94",
   "metadata": {
    "execution": {
     "iopub.execute_input": "2025-04-19T16:54:36.563789Z",
     "iopub.status.busy": "2025-04-19T16:54:36.563561Z",
     "iopub.status.idle": "2025-04-19T16:54:38.029096Z",
     "shell.execute_reply": "2025-04-19T16:54:38.028152Z"
    },
    "papermill": {
     "duration": 1.472701,
     "end_time": "2025-04-19T16:54:38.030518",
     "exception": false,
     "start_time": "2025-04-19T16:54:36.557817",
     "status": "completed"
    },
    "tags": []
   },
   "outputs": [
    {
     "name": "stdout",
     "output_type": "stream",
     "text": [
      "\n",
      "→ Day split indices:\n",
      "Train: [0, 1, 2, 3, 4]...\n",
      "Val: [5, 6]...\n",
      "Test: [7, 8, 9, 10, 11]...\n",
      "\n",
      "Train set: 2766832 samples (56.19%)\n",
      "Illicit Ratio: 0.07%\n",
      "\n",
      "Validation set: 964840 samples (19.59%)\n",
      "Illicit Ratio: 0.11%\n",
      "\n",
      "Test set: 1192575 samples (24.22%)\n",
      "Illicit Ratio: 0.15%\n"
     ]
    }
   ],
   "source": [
    "# split data\n",
    "import pandas as pd\n",
    "import numpy as np\n",
    "import itertools\n",
    "\n",
    "# === Setup ===\n",
    "# x_df must contain a 'timestamp' column\n",
    "# y_df must be aligned (same index) and contain one column like 'label'\n",
    "\n",
    "n_days = (X['Timestamp'].max() - X['Timestamp'].min()) // (24 * 3600) + 1\n",
    "base_ts = X['Timestamp'].min()\n",
    "\n",
    "daily_irs = []\n",
    "weighted_daily_irs = []\n",
    "daily_inds = []\n",
    "daily_trans = []\n",
    "\n",
    "# === Step 1: Get daily stats from x_df and y_df ===\n",
    "for day in range(n_days):\n",
    "    l = base_ts + day * 24 * 3600\n",
    "    r = base_ts + (day + 1) * 24 * 3600\n",
    "    day_inds = X[(X['Timestamp'] >= l) & (X['Timestamp'] < r)].index\n",
    "    daily_inds.append(day_inds)\n",
    "    \n",
    "    if not day_inds.empty:\n",
    "        ir = y.loc[day_inds].mean()\n",
    "        daily_irs.append(ir)\n",
    "        weighted_daily_irs.append(ir * len(day_inds) / len(X))\n",
    "        daily_trans.append(len(day_inds))\n",
    "    else:\n",
    "        daily_irs.append(0)\n",
    "        weighted_daily_irs.append(0)\n",
    "        daily_trans.append(0)\n",
    "\n",
    "# === Step 2: Find best (i, j) day split based on transaction count ===\n",
    "split_per = [0.6, 0.2, 0.2]\n",
    "daily_totals = np.array(daily_trans)\n",
    "I = list(range(len(daily_totals)))\n",
    "split_scores = {}\n",
    "\n",
    "for i, j in itertools.combinations(I, 2):\n",
    "    if j >= i:\n",
    "        split_totals = [daily_totals[:i].sum(), daily_totals[i:j].sum(), daily_totals[j:].sum()]\n",
    "        split_sum = sum(split_totals)\n",
    "        if split_sum == 0:\n",
    "            continue\n",
    "        split_props = [v / split_sum for v in split_totals]\n",
    "        split_error = [abs(v - t) / t for v, t in zip(split_props, split_per)]\n",
    "        score = max(split_error)\n",
    "        split_scores[(i, j)] = score\n",
    "\n",
    "i, j = min(split_scores, key=split_scores.get)\n",
    "split = [list(range(i)), list(range(i, j)), list(range(j, n_days))]\n",
    "\n",
    "print(f\"\\n→ Day split indices:\\nTrain: {split[0][:5]}...\\nVal: {split[1][:5]}...\\nTest: {split[2][:5]}...\")\n",
    "\n",
    "# === Step 3: Split x_df and y_df ===\n",
    "split_x = {0: [], 1: [], 2: []}\n",
    "split_y = {0: [], 1: [], 2: []}\n",
    "\n",
    "for k in range(3):\n",
    "    for day in split[k]:\n",
    "        split_x[k].append(X.loc[daily_inds[day]])\n",
    "        split_y[k].append(y.loc[daily_inds[day]])\n",
    "\n",
    "X_train = pd.concat(split_x[0])\n",
    "X_val   = pd.concat(split_x[1])\n",
    "X_test  = pd.concat(split_x[2])\n",
    "\n",
    "y_train = pd.concat(split_y[0])\n",
    "y_val   = pd.concat(split_y[1])\n",
    "y_test  = pd.concat(split_y[2])\n",
    "\n",
    "# === Step 4: Print final stats ===\n",
    "print(f\"\\nTrain set: {len(X_train)} samples ({len(X_train)/len(X)*100:.2f}%)\")\n",
    "print(f\"Illicit Ratio: {y_train.mean() * 100:.2f}%\")\n",
    "\n",
    "print(f\"\\nValidation set: {len(X_val)} samples ({len(X_val)/len(X)*100:.2f}%)\")\n",
    "print(f\"Illicit Ratio: {y_val.mean() * 100:.2f}%\")\n",
    "\n",
    "print(f\"\\nTest set: {len(X_test)} samples ({len(X_test)/len(X)*100:.2f}%)\")\n",
    "print(f\"Illicit Ratio: {y_test.mean() * 100:.2f}%\")\n"
   ]
  },
  {
   "cell_type": "markdown",
   "id": "0bbfa560",
   "metadata": {
    "papermill": {
     "duration": 0.005312,
     "end_time": "2025-04-19T16:54:38.041535",
     "exception": false,
     "start_time": "2025-04-19T16:54:38.036223",
     "status": "completed"
    },
    "tags": []
   },
   "source": [
    "### Graph Features Processor (GFP)"
   ]
  },
  {
   "cell_type": "code",
   "execution_count": 8,
   "id": "eb8a710c",
   "metadata": {
    "execution": {
     "iopub.execute_input": "2025-04-19T16:54:38.052754Z",
     "iopub.status.busy": "2025-04-19T16:54:38.052483Z",
     "iopub.status.idle": "2025-04-19T16:54:39.383167Z",
     "shell.execute_reply": "2025-04-19T16:54:39.382118Z"
    },
    "papermill": {
     "duration": 1.33857,
     "end_time": "2025-04-19T16:54:39.385362",
     "exception": false,
     "start_time": "2025-04-19T16:54:38.046792",
     "status": "completed"
    },
    "tags": []
   },
   "outputs": [],
   "source": [
    "!pip list | grep snapml"
   ]
  },
  {
   "cell_type": "code",
   "execution_count": 9,
   "id": "308bf60e",
   "metadata": {
    "execution": {
     "iopub.execute_input": "2025-04-19T16:54:39.397935Z",
     "iopub.status.busy": "2025-04-19T16:54:39.397651Z",
     "iopub.status.idle": "2025-04-19T16:54:43.795687Z",
     "shell.execute_reply": "2025-04-19T16:54:43.794763Z"
    },
    "papermill": {
     "duration": 4.406136,
     "end_time": "2025-04-19T16:54:43.797303",
     "exception": false,
     "start_time": "2025-04-19T16:54:39.391167",
     "status": "completed"
    },
    "tags": []
   },
   "outputs": [
    {
     "name": "stdout",
     "output_type": "stream",
     "text": [
      "Collecting snapml\r\n",
      "  Downloading snapml-1.16.3-cp310-cp310-manylinux_2_28_x86_64.whl.metadata (1.6 kB)\r\n",
      "Requirement already satisfied: scikit-learn in /usr/local/lib/python3.10/dist-packages (from snapml) (1.2.2)\r\n",
      "Requirement already satisfied: scipy in /usr/local/lib/python3.10/dist-packages (from snapml) (1.13.1)\r\n",
      "Requirement already satisfied: numpy in /usr/local/lib/python3.10/dist-packages (from snapml) (1.26.4)\r\n",
      "Requirement already satisfied: mkl_fft in /usr/local/lib/python3.10/dist-packages (from numpy->snapml) (1.3.8)\r\n",
      "Requirement already satisfied: mkl_random in /usr/local/lib/python3.10/dist-packages (from numpy->snapml) (1.2.4)\r\n",
      "Requirement already satisfied: mkl_umath in /usr/local/lib/python3.10/dist-packages (from numpy->snapml) (0.1.1)\r\n",
      "Requirement already satisfied: mkl in /usr/local/lib/python3.10/dist-packages (from numpy->snapml) (2025.0.1)\r\n",
      "Requirement already satisfied: tbb4py in /usr/local/lib/python3.10/dist-packages (from numpy->snapml) (2022.0.0)\r\n",
      "Requirement already satisfied: mkl-service in /usr/local/lib/python3.10/dist-packages (from numpy->snapml) (2.4.1)\r\n",
      "Requirement already satisfied: joblib>=1.1.1 in /usr/local/lib/python3.10/dist-packages (from scikit-learn->snapml) (1.4.2)\r\n",
      "Requirement already satisfied: threadpoolctl>=2.0.0 in /usr/local/lib/python3.10/dist-packages (from scikit-learn->snapml) (3.5.0)\r\n",
      "Requirement already satisfied: intel-openmp>=2024 in /usr/local/lib/python3.10/dist-packages (from mkl->numpy->snapml) (2024.2.0)\r\n",
      "Requirement already satisfied: tbb==2022.* in /usr/local/lib/python3.10/dist-packages (from mkl->numpy->snapml) (2022.0.0)\r\n",
      "Requirement already satisfied: tcmlib==1.* in /usr/local/lib/python3.10/dist-packages (from tbb==2022.*->mkl->numpy->snapml) (1.2.0)\r\n",
      "Requirement already satisfied: intel-cmplr-lib-rt in /usr/local/lib/python3.10/dist-packages (from mkl_umath->numpy->snapml) (2024.2.0)\r\n",
      "Requirement already satisfied: intel-cmplr-lib-ur==2024.2.0 in /usr/local/lib/python3.10/dist-packages (from intel-openmp>=2024->mkl->numpy->snapml) (2024.2.0)\r\n",
      "Downloading snapml-1.16.3-cp310-cp310-manylinux_2_28_x86_64.whl (13.6 MB)\r\n",
      "\u001B[2K   \u001B[90m━━━━━━━━━━━━━━━━━━━━━━━━━━━━━━━━━━━━━━━━\u001B[0m \u001B[32m13.6/13.6 MB\u001B[0m \u001B[31m96.6 MB/s\u001B[0m eta \u001B[36m0:00:00\u001B[0m\r\n",
      "\u001B[?25hInstalling collected packages: snapml\r\n",
      "Successfully installed snapml-1.16.3\r\n"
     ]
    }
   ],
   "source": [
    "!pip install snapml"
   ]
  },
  {
   "cell_type": "code",
   "execution_count": 10,
   "id": "26c19773",
   "metadata": {
    "execution": {
     "iopub.execute_input": "2025-04-19T16:54:43.810503Z",
     "iopub.status.busy": "2025-04-19T16:54:43.810182Z",
     "iopub.status.idle": "2025-04-19T16:54:43.814715Z",
     "shell.execute_reply": "2025-04-19T16:54:43.813849Z"
    },
    "papermill": {
     "duration": 0.012567,
     "end_time": "2025-04-19T16:54:43.816116",
     "exception": false,
     "start_time": "2025-04-19T16:54:43.803549",
     "status": "completed"
    },
    "tags": []
   },
   "outputs": [],
   "source": [
    "# import pandas as pd\n",
    "# import numpy as np\n",
    "# import networkx as nx\n",
    "\n",
    "# def compute_graph_params(csv_path=\"/kaggle/input/formatted-transactions/formatted_transactions.csv\"):\n",
    "#     df = pd.read_csv(csv_path)\n",
    "\n",
    "#     # Giữ nguyên Timestamp dạng giây\n",
    "#     df[\"timestamp\"] = df[\"Timestamp\"]\n",
    "#     df[\"account_out\"] = df[\"from_id\"].astype(str)\n",
    "#     df[\"account_in\"] = df[\"to_id\"].astype(str)\n",
    "#     df[\"value\"] = pd.to_numeric(df[\"Amount Sent\"], errors=\"coerce\").fillna(0)\n",
    "\n",
    "#     # --- A. Fan bins ---\n",
    "#     fan_out = df.groupby(\"account_out\")[\"account_in\"].nunique()\n",
    "#     fan_in = df.groupby(\"account_in\")[\"account_out\"].nunique()\n",
    "#     fan_total = fan_out.add(fan_in, fill_value=0)\n",
    "#     fan_bins = np.quantile(fan_total, [0.33, 0.66]).astype(int).tolist() if len(fan_total) >= 3 else []\n",
    "\n",
    "#     # --- B. Degree bins ---\n",
    "#     deg_out = df.groupby(\"account_out\").size()\n",
    "#     deg_in = df.groupby(\"account_in\").size()\n",
    "#     deg_total = deg_out.add(deg_in, fill_value=0)\n",
    "#     degree_bins = np.quantile(deg_total, [0.33, 0.66]).astype(int).tolist() if len(deg_total) >= 3 else []\n",
    "\n",
    "#     # --- C. Scatter-Gather bins ---\n",
    "#     sg_scatter = df.groupby(\"account_out\")[\"account_in\"].nunique()\n",
    "#     sg_gather = df.groupby(\"account_in\")[\"account_out\"].nunique()\n",
    "#     sg_total = sg_scatter.add(sg_gather, fill_value=0)\n",
    "#     scatter_gather_bins = np.quantile(sg_total, [0.33, 0.66]).astype(int).tolist() if len(sg_total) >= 3 else []\n",
    "\n",
    "#     # --- D. Temporal cycle bins ---\n",
    "#     df[\"pair\"] = df[\"account_out\"] + \"->\" + df[\"account_in\"]\n",
    "#     pair_counts = df.groupby(\"pair\")[\"timestamp\"].count()\n",
    "#     pair_counts_filtered = pair_counts[pair_counts > 1]\n",
    "#     temp_cycle_bins = (\n",
    "#         np.quantile(pair_counts_filtered, [0.33, 0.66]).astype(int).tolist()\n",
    "#         if len(pair_counts_filtered) >= 3 else []\n",
    "#     )\n",
    "\n",
    "#     # --- E. Length-constrained cycle bins ---\n",
    "#     G = nx.from_pandas_edgelist(df, source=\"account_out\", target=\"account_in\", create_using=nx.DiGraph)\n",
    "#     cycle_count = {node: 0 for node in G.nodes}\n",
    "#     for c in nx.simple_cycles(G):\n",
    "#         if len(c) <= 10:\n",
    "#             for node in c:\n",
    "#                 cycle_count[node] += 1\n",
    "#     cycle_series = pd.Series(cycle_count)\n",
    "#     cycle_series_filtered = cycle_series[cycle_series > 0]\n",
    "#     lc_cycle_bins = (\n",
    "#         np.quantile(cycle_series_filtered, [0.33, 0.66]).astype(int).tolist()\n",
    "#         if len(cycle_series_filtered) >= 3 else []\n",
    "#     )\n",
    "\n",
    "#     # --- Final config ---\n",
    "#     params = {\n",
    "#         \"num_threads\": 4,\n",
    "#         \"time_window\": 86400,  # 1 day in seconds\n",
    "\n",
    "#         \"vertex_stats\": True,\n",
    "#         \"vertex_stats_cols\": [df.columns.get_loc(\"Amount Sent\")],\n",
    "#         \"vertex_stats_feats\": [0, 1, 3, 4, 8, 9],\n",
    "\n",
    "#         \"fan\": True,\n",
    "#         \"fan_tw\": 86400,  # 1 day\n",
    "#         \"fan_bins\": fan_bins,\n",
    "\n",
    "#         \"degree\": True,\n",
    "#         \"degree_tw\": 86400,\n",
    "#         \"degree_bins\": degree_bins,\n",
    "\n",
    "#         \"scatter-gather\": True,\n",
    "#         \"scatter-gather_tw\": 21600,  # 6 hours\n",
    "#         \"scatter-gather_bins\": scatter_gather_bins,\n",
    "\n",
    "#         \"temp-cycle\": True,\n",
    "#         \"temp-cycle_tw\": 86400,\n",
    "#         \"temp-cycle_bins\": temp_cycle_bins,\n",
    "\n",
    "#         \"lc-cycle\": True,\n",
    "#         \"lc-cycle_tw\": 86400,\n",
    "#         \"lc-cycle_len\": 10,\n",
    "#         \"lc-cycle_bins\": lc_cycle_bins,\n",
    "#     }\n",
    "\n",
    "#     return params\n",
    "\n",
    "# params = compute_graph_params()\n",
    "# print(params)\n"
   ]
  },
  {
   "cell_type": "code",
   "execution_count": 11,
   "id": "12f2ca53",
   "metadata": {
    "execution": {
     "iopub.execute_input": "2025-04-19T16:54:43.828892Z",
     "iopub.status.busy": "2025-04-19T16:54:43.828648Z",
     "iopub.status.idle": "2025-04-19T16:54:43.833862Z",
     "shell.execute_reply": "2025-04-19T16:54:43.833026Z"
    },
    "papermill": {
     "duration": 0.01292,
     "end_time": "2025-04-19T16:54:43.835189",
     "exception": false,
     "start_time": "2025-04-19T16:54:43.822269",
     "status": "completed"
    },
    "tags": []
   },
   "outputs": [],
   "source": [
    "# sample params config\n",
    "params = {\n",
    "    \"num_threads\": 4,                # Sử dụng 4 luồng để xử lý song song (tùy máy, có thể tăng)\n",
    "    \"time_window\": 24,              # Mặc định: 1 ngày nếu không có chỉ định cụ thể\n",
    "\n",
    "    # Vertex statistics\n",
    "    \"vertex_stats\": True,\n",
    "    \"vertex_stats_cols\": [4, 3],    # Cột 4 = Amount Paid, cột 3 = Timestamp_float\n",
    "    \"vertex_stats_feats\": [0, 1, 2, 3, 4, 8, 9, 10],  # fan, degree, ratio, avg, sum, var, skew, kurtosis\n",
    "\n",
    "    # Fan-in/out\n",
    "    \"fan\": True,\n",
    "    \"fan_tw\": 24,                   # 1 ngày\n",
    "    \"fan_bins\": [2, 3, 5, 7, 13, 17, 23],             # Placeholder – cần tinh chỉnh sau phân tích dữ liệu\n",
    "\n",
    "    # In/out degree\n",
    "    \"degree\": True,\n",
    "    \"degree_tw\": 24,                # 1 ngày\n",
    "    \"degree_bins\": [2, 3, 5, 7, 13, 17, 23],          # Placeholder\n",
    "\n",
    "    # Scatter-Gather pattern\n",
    "    \"scatter-gather\": True,\n",
    "    \"scatter-gather_tw\": 6,         # 6 giờ như mô tả paper\n",
    "    \"scatter-gather_bins\": [2, 3, 5, 7, 13, 17, 23],  # Placeholder\n",
    "\n",
    "    # Temporal cycle\n",
    "    \"temp-cycle\": True,\n",
    "    \"temp-cycle_tw\": 24,            # 1 ngày\n",
    "    \"temp-cycle_bins\": [2, 3, 5, 7, 13],      # Placeholder\n",
    "\n",
    "    # Simple cycle (length-constrained)\n",
    "    \"lc-cycle\": True,\n",
    "    \"lc-cycle_tw\": 24,              # 1 ngày\n",
    "    \"lc-cycle_len\": 10,             # Chu trình tối đa độ dài 10\n",
    "    \"lc-cycle_bins\": [2, 3, 5, 7, 11],        # Placeholder\n",
    "}"
   ]
  },
  {
   "cell_type": "code",
   "execution_count": 12,
   "id": "36bdad58",
   "metadata": {
    "execution": {
     "iopub.execute_input": "2025-04-19T16:54:43.847393Z",
     "iopub.status.busy": "2025-04-19T16:54:43.847156Z",
     "iopub.status.idle": "2025-04-19T16:54:50.378582Z",
     "shell.execute_reply": "2025-04-19T16:54:50.377804Z"
    },
    "papermill": {
     "duration": 6.539118,
     "end_time": "2025-04-19T16:54:50.380091",
     "exception": false,
     "start_time": "2025-04-19T16:54:43.840973",
     "status": "completed"
    },
    "tags": []
   },
   "outputs": [],
   "source": [
    "from snapml import GraphFeaturePreprocessor\n",
    "\n",
    "gfp = GraphFeaturePreprocessor()\n",
    "\n",
    "gfp.set_params(params)"
   ]
  },
  {
   "cell_type": "code",
   "execution_count": 13,
   "id": "4da2e48a",
   "metadata": {
    "execution": {
     "iopub.execute_input": "2025-04-19T16:54:50.393637Z",
     "iopub.status.busy": "2025-04-19T16:54:50.393069Z",
     "iopub.status.idle": "2025-04-19T16:54:50.397184Z",
     "shell.execute_reply": "2025-04-19T16:54:50.396339Z"
    },
    "papermill": {
     "duration": 0.011873,
     "end_time": "2025-04-19T16:54:50.398321",
     "exception": false,
     "start_time": "2025-04-19T16:54:50.386448",
     "status": "completed"
    },
    "tags": []
   },
   "outputs": [
    {
     "name": "stdout",
     "output_type": "stream",
     "text": [
      "{'num_threads': 4, 'time_window': 24, 'max_no_edges': -1, 'vertex_stats': True, 'vertex_stats_tw': 1728000, 'vertex_stats_cols': [4, 3], 'vertex_stats_feats': [0, 1, 2, 3, 4, 8, 9, 10], 'fan': True, 'fan_tw': 24, 'fan_bins': [2, 3, 5, 7, 13, 17, 23], 'degree': True, 'degree_tw': 24, 'degree_bins': [2, 3, 5, 7, 13, 17, 23], 'scatter-gather': True, 'scatter-gather_tw': 6, 'scatter-gather_bins': [2, 3, 5, 7, 13, 17, 23], 'temp-cycle': True, 'temp-cycle_tw': 24, 'temp-cycle_bins': [2, 3, 5, 7, 13], 'lc-cycle': True, 'lc-cycle_tw': 24, 'lc-cycle_len': 10, 'lc-cycle_bins': [2, 3, 5, 7, 11]}\n"
     ]
    }
   ],
   "source": [
    "print(gfp.get_params())"
   ]
  },
  {
   "cell_type": "code",
   "execution_count": 14,
   "id": "cda905ba",
   "metadata": {
    "execution": {
     "iopub.execute_input": "2025-04-19T16:54:50.410813Z",
     "iopub.status.busy": "2025-04-19T16:54:50.410590Z",
     "iopub.status.idle": "2025-04-19T16:54:50.521718Z",
     "shell.execute_reply": "2025-04-19T16:54:50.520713Z"
    },
    "papermill": {
     "duration": 0.119191,
     "end_time": "2025-04-19T16:54:50.523576",
     "exception": false,
     "start_time": "2025-04-19T16:54:50.404385",
     "status": "completed"
    },
    "tags": []
   },
   "outputs": [],
   "source": [
    "# use numpy --> this can cause the problem of not using GPU\n",
    "X_train = X_train.to_numpy()\n",
    "X_val = X_val.to_numpy()\n",
    "X_test = X_test.to_numpy()\n",
    "# y_train = y_train.to_numpy()"
   ]
  },
  {
   "cell_type": "code",
   "execution_count": 15,
   "id": "9af171d0",
   "metadata": {
    "execution": {
     "iopub.execute_input": "2025-04-19T16:54:50.537271Z",
     "iopub.status.busy": "2025-04-19T16:54:50.536963Z",
     "iopub.status.idle": "2025-04-19T17:05:53.805801Z",
     "shell.execute_reply": "2025-04-19T17:05:53.804888Z"
    },
    "papermill": {
     "duration": 663.277438,
     "end_time": "2025-04-19T17:05:53.807615",
     "exception": false,
     "start_time": "2025-04-19T16:54:50.530177",
     "status": "completed"
    },
    "tags": []
   },
   "outputs": [],
   "source": [
    "X_train_enriched = gfp.fit_transform(X_train)\n",
    "X_val_enriched = gfp.fit_transform(X_val)\n",
    "X_test_enriched = gfp.fit_transform(X_test)"
   ]
  },
  {
   "cell_type": "code",
   "execution_count": 16,
   "id": "436743c9",
   "metadata": {
    "execution": {
     "iopub.execute_input": "2025-04-19T17:05:53.831660Z",
     "iopub.status.busy": "2025-04-19T17:05:53.831420Z",
     "iopub.status.idle": "2025-04-19T17:05:53.858413Z",
     "shell.execute_reply": "2025-04-19T17:05:53.857475Z"
    },
    "papermill": {
     "duration": 0.045238,
     "end_time": "2025-04-19T17:05:53.859730",
     "exception": false,
     "start_time": "2025-04-19T17:05:53.814492",
     "status": "completed"
    },
    "tags": []
   },
   "outputs": [
    {
     "name": "stdout",
     "output_type": "stream",
     "text": [
      "106 106 106\n"
     ]
    }
   ],
   "source": [
    "# check length\n",
    "print(len(X_train_enriched[0]), len(X_val_enriched[0]), len(X_test_enriched[0]))"
   ]
  },
  {
   "cell_type": "markdown",
   "id": "dec1d93a",
   "metadata": {
    "papermill": {
     "duration": 0.005881,
     "end_time": "2025-04-19T17:05:53.871879",
     "exception": false,
     "start_time": "2025-04-19T17:05:53.865998",
     "status": "completed"
    },
    "tags": []
   },
   "source": [
    "### Train GBT models"
   ]
  },
  {
   "cell_type": "code",
   "execution_count": 17,
   "id": "24200824",
   "metadata": {
    "execution": {
     "iopub.execute_input": "2025-04-19T17:05:53.884843Z",
     "iopub.status.busy": "2025-04-19T17:05:53.884593Z",
     "iopub.status.idle": "2025-04-19T17:05:53.889739Z",
     "shell.execute_reply": "2025-04-19T17:05:53.889093Z"
    },
    "papermill": {
     "duration": 0.013089,
     "end_time": "2025-04-19T17:05:53.890972",
     "exception": false,
     "start_time": "2025-04-19T17:05:53.877883",
     "status": "completed"
    },
    "tags": []
   },
   "outputs": [
    {
     "name": "stdout",
     "output_type": "stream",
     "text": [
      "{'n_estimators': 100, 'max_depth': 14, 'learning_rate': 0.014214574630449237, 'reg_lambda': 51.51230440733439, 'scale_pos_weight': 8.64664535499335, 'colsample_bytree': 0.8392640136139451, 'subsample': 0.5178863314753541, 'eval_metric': 'logloss', 'device': 'cuda:0', 'tree_method': 'hist'}\n"
     ]
    }
   ],
   "source": [
    "import numpy as np\n",
    "\n",
    "xgb_params = {\n",
    "    \"n_estimators\": 100,  # num_round\n",
    "    \"max_depth\": np.random.randint(10, 16),\n",
    "    \"learning_rate\": 10 ** np.random.uniform(-2.5, -1),\n",
    "    \"reg_lambda\": 10 ** np.random.uniform(-2, 2),\n",
    "    \"scale_pos_weight\": np.random.uniform(1, 10),\n",
    "    \"colsample_bytree\": np.random.uniform(0.5, 1.0),\n",
    "    \"subsample\": np.random.uniform(0.5, 1.0),\n",
    "    # \"use_label_encoder\": False,\n",
    "    \"eval_metric\": \"logloss\",\n",
    "    \"device\": \"cuda:0\",\n",
    "    \"tree_method\": \"hist\"\n",
    "}\n",
    "\n",
    "print(xgb_params)"
   ]
  },
  {
   "cell_type": "code",
   "execution_count": 18,
   "id": "8c83bf06",
   "metadata": {
    "execution": {
     "iopub.execute_input": "2025-04-19T17:05:53.903784Z",
     "iopub.status.busy": "2025-04-19T17:05:53.903589Z",
     "iopub.status.idle": "2025-04-19T17:06:18.210653Z",
     "shell.execute_reply": "2025-04-19T17:06:18.209798Z"
    },
    "papermill": {
     "duration": 24.314968,
     "end_time": "2025-04-19T17:06:18.212066",
     "exception": false,
     "start_time": "2025-04-19T17:05:53.897098",
     "status": "completed"
    },
    "tags": []
   },
   "outputs": [
    {
     "name": "stdout",
     "output_type": "stream",
     "text": [
      "[0]\tvalidation_0-logloss:0.13091\n",
      "[1]\tvalidation_0-logloss:0.12992\n",
      "[2]\tvalidation_0-logloss:0.13109\n",
      "[3]\tvalidation_0-logloss:0.13146\n",
      "[4]\tvalidation_0-logloss:0.13001\n",
      "[5]\tvalidation_0-logloss:0.12902\n",
      "[6]\tvalidation_0-logloss:0.12776\n",
      "[7]\tvalidation_0-logloss:0.12669\n",
      "[8]\tvalidation_0-logloss:0.12673\n",
      "[9]\tvalidation_0-logloss:0.12710\n",
      "[10]\tvalidation_0-logloss:0.12676\n",
      "[11]\tvalidation_0-logloss:0.12605\n",
      "[12]\tvalidation_0-logloss:0.12484\n",
      "[13]\tvalidation_0-logloss:0.12400\n",
      "[14]\tvalidation_0-logloss:0.12440\n",
      "[15]\tvalidation_0-logloss:0.12304\n",
      "[16]\tvalidation_0-logloss:0.12300\n",
      "[17]\tvalidation_0-logloss:0.12467\n",
      "[18]\tvalidation_0-logloss:0.12372\n",
      "[19]\tvalidation_0-logloss:0.12297\n",
      "[20]\tvalidation_0-logloss:0.12219\n",
      "[21]\tvalidation_0-logloss:0.12131\n",
      "[22]\tvalidation_0-logloss:0.12072\n",
      "[23]\tvalidation_0-logloss:0.12011\n",
      "[24]\tvalidation_0-logloss:0.11896\n",
      "[25]\tvalidation_0-logloss:0.11764\n",
      "[26]\tvalidation_0-logloss:0.11683\n",
      "[27]\tvalidation_0-logloss:0.11651\n",
      "[28]\tvalidation_0-logloss:0.11543\n",
      "[29]\tvalidation_0-logloss:0.11452\n",
      "[30]\tvalidation_0-logloss:0.11407\n",
      "[31]\tvalidation_0-logloss:0.11341\n",
      "[32]\tvalidation_0-logloss:0.11291\n",
      "[33]\tvalidation_0-logloss:0.11259\n",
      "[34]\tvalidation_0-logloss:0.11165\n",
      "[35]\tvalidation_0-logloss:0.11110\n",
      "[36]\tvalidation_0-logloss:0.11046\n",
      "[37]\tvalidation_0-logloss:0.10966\n",
      "[38]\tvalidation_0-logloss:0.10853\n",
      "[39]\tvalidation_0-logloss:0.10784\n",
      "[40]\tvalidation_0-logloss:0.10919\n",
      "[41]\tvalidation_0-logloss:0.10791\n",
      "[42]\tvalidation_0-logloss:0.10696\n",
      "[43]\tvalidation_0-logloss:0.10629\n",
      "[44]\tvalidation_0-logloss:0.10542\n",
      "[45]\tvalidation_0-logloss:0.10482\n",
      "[46]\tvalidation_0-logloss:0.10379\n",
      "[47]\tvalidation_0-logloss:0.10325\n",
      "[48]\tvalidation_0-logloss:0.10302\n",
      "[49]\tvalidation_0-logloss:0.10221\n",
      "[50]\tvalidation_0-logloss:0.10123\n",
      "[51]\tvalidation_0-logloss:0.10042\n",
      "[52]\tvalidation_0-logloss:0.09964\n",
      "[53]\tvalidation_0-logloss:0.09892\n",
      "[54]\tvalidation_0-logloss:0.09854\n",
      "[55]\tvalidation_0-logloss:0.09799\n",
      "[56]\tvalidation_0-logloss:0.09787\n",
      "[57]\tvalidation_0-logloss:0.09736\n",
      "[58]\tvalidation_0-logloss:0.09666\n",
      "[59]\tvalidation_0-logloss:0.09565\n",
      "[60]\tvalidation_0-logloss:0.09550\n",
      "[61]\tvalidation_0-logloss:0.09476\n",
      "[62]\tvalidation_0-logloss:0.09463\n",
      "[63]\tvalidation_0-logloss:0.09380\n",
      "[64]\tvalidation_0-logloss:0.09273\n",
      "[65]\tvalidation_0-logloss:0.09198\n",
      "[66]\tvalidation_0-logloss:0.09142\n",
      "[67]\tvalidation_0-logloss:0.09093\n",
      "[68]\tvalidation_0-logloss:0.09019\n",
      "[69]\tvalidation_0-logloss:0.08960\n",
      "[70]\tvalidation_0-logloss:0.08921\n",
      "[71]\tvalidation_0-logloss:0.08866\n",
      "[72]\tvalidation_0-logloss:0.08834\n",
      "[73]\tvalidation_0-logloss:0.08743\n",
      "[74]\tvalidation_0-logloss:0.08675\n",
      "[75]\tvalidation_0-logloss:0.08607\n",
      "[76]\tvalidation_0-logloss:0.08519\n",
      "[77]\tvalidation_0-logloss:0.08443\n",
      "[78]\tvalidation_0-logloss:0.08350\n",
      "[79]\tvalidation_0-logloss:0.08278\n",
      "[80]\tvalidation_0-logloss:0.08189\n",
      "[81]\tvalidation_0-logloss:0.08121\n",
      "[82]\tvalidation_0-logloss:0.08051\n",
      "[83]\tvalidation_0-logloss:0.07982\n",
      "[84]\tvalidation_0-logloss:0.07918\n",
      "[85]\tvalidation_0-logloss:0.07851\n",
      "[86]\tvalidation_0-logloss:0.07772\n",
      "[87]\tvalidation_0-logloss:0.07713\n",
      "[88]\tvalidation_0-logloss:0.07654\n",
      "[89]\tvalidation_0-logloss:0.07571\n",
      "[90]\tvalidation_0-logloss:0.07506\n",
      "[91]\tvalidation_0-logloss:0.07434\n",
      "[92]\tvalidation_0-logloss:0.07426\n",
      "[93]\tvalidation_0-logloss:0.07351\n",
      "[94]\tvalidation_0-logloss:0.07283\n",
      "[95]\tvalidation_0-logloss:0.07226\n",
      "[96]\tvalidation_0-logloss:0.07183\n",
      "[97]\tvalidation_0-logloss:0.07125\n",
      "[98]\tvalidation_0-logloss:0.07065\n",
      "[99]\tvalidation_0-logloss:0.07060\n"
     ]
    },
    {
     "data": {
      "text/html": [
       "<style>#sk-container-id-1 {color: black;background-color: white;}#sk-container-id-1 pre{padding: 0;}#sk-container-id-1 div.sk-toggleable {background-color: white;}#sk-container-id-1 label.sk-toggleable__label {cursor: pointer;display: block;width: 100%;margin-bottom: 0;padding: 0.3em;box-sizing: border-box;text-align: center;}#sk-container-id-1 label.sk-toggleable__label-arrow:before {content: \"▸\";float: left;margin-right: 0.25em;color: #696969;}#sk-container-id-1 label.sk-toggleable__label-arrow:hover:before {color: black;}#sk-container-id-1 div.sk-estimator:hover label.sk-toggleable__label-arrow:before {color: black;}#sk-container-id-1 div.sk-toggleable__content {max-height: 0;max-width: 0;overflow: hidden;text-align: left;background-color: #f0f8ff;}#sk-container-id-1 div.sk-toggleable__content pre {margin: 0.2em;color: black;border-radius: 0.25em;background-color: #f0f8ff;}#sk-container-id-1 input.sk-toggleable__control:checked~div.sk-toggleable__content {max-height: 200px;max-width: 100%;overflow: auto;}#sk-container-id-1 input.sk-toggleable__control:checked~label.sk-toggleable__label-arrow:before {content: \"▾\";}#sk-container-id-1 div.sk-estimator input.sk-toggleable__control:checked~label.sk-toggleable__label {background-color: #d4ebff;}#sk-container-id-1 div.sk-label input.sk-toggleable__control:checked~label.sk-toggleable__label {background-color: #d4ebff;}#sk-container-id-1 input.sk-hidden--visually {border: 0;clip: rect(1px 1px 1px 1px);clip: rect(1px, 1px, 1px, 1px);height: 1px;margin: -1px;overflow: hidden;padding: 0;position: absolute;width: 1px;}#sk-container-id-1 div.sk-estimator {font-family: monospace;background-color: #f0f8ff;border: 1px dotted black;border-radius: 0.25em;box-sizing: border-box;margin-bottom: 0.5em;}#sk-container-id-1 div.sk-estimator:hover {background-color: #d4ebff;}#sk-container-id-1 div.sk-parallel-item::after {content: \"\";width: 100%;border-bottom: 1px solid gray;flex-grow: 1;}#sk-container-id-1 div.sk-label:hover label.sk-toggleable__label {background-color: #d4ebff;}#sk-container-id-1 div.sk-serial::before {content: \"\";position: absolute;border-left: 1px solid gray;box-sizing: border-box;top: 0;bottom: 0;left: 50%;z-index: 0;}#sk-container-id-1 div.sk-serial {display: flex;flex-direction: column;align-items: center;background-color: white;padding-right: 0.2em;padding-left: 0.2em;position: relative;}#sk-container-id-1 div.sk-item {position: relative;z-index: 1;}#sk-container-id-1 div.sk-parallel {display: flex;align-items: stretch;justify-content: center;background-color: white;position: relative;}#sk-container-id-1 div.sk-item::before, #sk-container-id-1 div.sk-parallel-item::before {content: \"\";position: absolute;border-left: 1px solid gray;box-sizing: border-box;top: 0;bottom: 0;left: 50%;z-index: -1;}#sk-container-id-1 div.sk-parallel-item {display: flex;flex-direction: column;z-index: 1;position: relative;background-color: white;}#sk-container-id-1 div.sk-parallel-item:first-child::after {align-self: flex-end;width: 50%;}#sk-container-id-1 div.sk-parallel-item:last-child::after {align-self: flex-start;width: 50%;}#sk-container-id-1 div.sk-parallel-item:only-child::after {width: 0;}#sk-container-id-1 div.sk-dashed-wrapped {border: 1px dashed gray;margin: 0 0.4em 0.5em 0.4em;box-sizing: border-box;padding-bottom: 0.4em;background-color: white;}#sk-container-id-1 div.sk-label label {font-family: monospace;font-weight: bold;display: inline-block;line-height: 1.2em;}#sk-container-id-1 div.sk-label-container {text-align: center;}#sk-container-id-1 div.sk-container {/* jupyter's `normalize.less` sets `[hidden] { display: none; }` but bootstrap.min.css set `[hidden] { display: none !important; }` so we also need the `!important` here to be able to override the default hidden behavior on the sphinx rendered scikit-learn.org. See: https://github.com/scikit-learn/scikit-learn/issues/21755 */display: inline-block !important;position: relative;}#sk-container-id-1 div.sk-text-repr-fallback {display: none;}</style><div id=\"sk-container-id-1\" class=\"sk-top-container\"><div class=\"sk-text-repr-fallback\"><pre>XGBClassifier(base_score=None, booster=None, callbacks=None,\n",
       "              colsample_bylevel=None, colsample_bynode=None,\n",
       "              colsample_bytree=0.8392640136139451, device=&#x27;cuda:0&#x27;,\n",
       "              early_stopping_rounds=None, enable_categorical=False,\n",
       "              eval_metric=&#x27;logloss&#x27;, feature_types=None, gamma=None,\n",
       "              grow_policy=None, importance_type=None,\n",
       "              interaction_constraints=None, learning_rate=0.014214574630449237,\n",
       "              max_bin=None, max_cat_threshold=None, max_cat_to_onehot=None,\n",
       "              max_delta_step=None, max_depth=14, max_leaves=None,\n",
       "              min_child_weight=None, missing=nan, monotone_constraints=None,\n",
       "              multi_strategy=None, n_estimators=100, n_jobs=None,\n",
       "              num_parallel_tree=None, random_state=None, ...)</pre><b>In a Jupyter environment, please rerun this cell to show the HTML representation or trust the notebook. <br />On GitHub, the HTML representation is unable to render, please try loading this page with nbviewer.org.</b></div><div class=\"sk-container\" hidden><div class=\"sk-item\"><div class=\"sk-estimator sk-toggleable\"><input class=\"sk-toggleable__control sk-hidden--visually\" id=\"sk-estimator-id-1\" type=\"checkbox\" checked><label for=\"sk-estimator-id-1\" class=\"sk-toggleable__label sk-toggleable__label-arrow\">XGBClassifier</label><div class=\"sk-toggleable__content\"><pre>XGBClassifier(base_score=None, booster=None, callbacks=None,\n",
       "              colsample_bylevel=None, colsample_bynode=None,\n",
       "              colsample_bytree=0.8392640136139451, device=&#x27;cuda:0&#x27;,\n",
       "              early_stopping_rounds=None, enable_categorical=False,\n",
       "              eval_metric=&#x27;logloss&#x27;, feature_types=None, gamma=None,\n",
       "              grow_policy=None, importance_type=None,\n",
       "              interaction_constraints=None, learning_rate=0.014214574630449237,\n",
       "              max_bin=None, max_cat_threshold=None, max_cat_to_onehot=None,\n",
       "              max_delta_step=None, max_depth=14, max_leaves=None,\n",
       "              min_child_weight=None, missing=nan, monotone_constraints=None,\n",
       "              multi_strategy=None, n_estimators=100, n_jobs=None,\n",
       "              num_parallel_tree=None, random_state=None, ...)</pre></div></div></div></div></div>"
      ],
      "text/plain": [
       "XGBClassifier(base_score=None, booster=None, callbacks=None,\n",
       "              colsample_bylevel=None, colsample_bynode=None,\n",
       "              colsample_bytree=0.8392640136139451, device='cuda:0',\n",
       "              early_stopping_rounds=None, enable_categorical=False,\n",
       "              eval_metric='logloss', feature_types=None, gamma=None,\n",
       "              grow_policy=None, importance_type=None,\n",
       "              interaction_constraints=None, learning_rate=0.014214574630449237,\n",
       "              max_bin=None, max_cat_threshold=None, max_cat_to_onehot=None,\n",
       "              max_delta_step=None, max_depth=14, max_leaves=None,\n",
       "              min_child_weight=None, missing=nan, monotone_constraints=None,\n",
       "              multi_strategy=None, n_estimators=100, n_jobs=None,\n",
       "              num_parallel_tree=None, random_state=None, ...)"
      ]
     },
     "execution_count": 18,
     "metadata": {},
     "output_type": "execute_result"
    }
   ],
   "source": [
    "# fit model no training data\n",
    "from xgboost import XGBClassifier\n",
    "\n",
    "xgb_model = XGBClassifier(**xgb_params)\n",
    "xgb_model.fit(X_train_enriched, y_train, eval_set=[(X_val_enriched, y_val)])"
   ]
  },
  {
   "cell_type": "code",
   "execution_count": 19,
   "id": "0d6d703b",
   "metadata": {
    "execution": {
     "iopub.execute_input": "2025-04-19T17:06:18.236844Z",
     "iopub.status.busy": "2025-04-19T17:06:18.236566Z",
     "iopub.status.idle": "2025-04-19T17:06:20.193861Z",
     "shell.execute_reply": "2025-04-19T17:06:20.193119Z"
    },
    "papermill": {
     "duration": 1.971904,
     "end_time": "2025-04-19T17:06:20.195528",
     "exception": false,
     "start_time": "2025-04-19T17:06:18.223624",
     "status": "completed"
    },
    "tags": []
   },
   "outputs": [],
   "source": [
    "import cupy as cp\n",
    "\n",
    "X_test_enriched = cp.asarray(X_test_enriched)\n",
    "\n",
    "y_pred = xgb_model.predict(X_test_enriched)"
   ]
  },
  {
   "cell_type": "code",
   "execution_count": 20,
   "id": "084745d8",
   "metadata": {
    "execution": {
     "iopub.execute_input": "2025-04-19T17:06:20.218523Z",
     "iopub.status.busy": "2025-04-19T17:06:20.218222Z",
     "iopub.status.idle": "2025-04-19T17:06:21.009058Z",
     "shell.execute_reply": "2025-04-19T17:06:21.007974Z"
    },
    "papermill": {
     "duration": 0.80371,
     "end_time": "2025-04-19T17:06:21.010610",
     "exception": false,
     "start_time": "2025-04-19T17:06:20.206900",
     "status": "completed"
    },
    "tags": []
   },
   "outputs": [
    {
     "name": "stdout",
     "output_type": "stream",
     "text": [
      "3.882418191902385\n"
     ]
    }
   ],
   "source": [
    "from sklearn.metrics import f1_score\n",
    "f1 = f1_score(y_test, y_pred)*100\n",
    "print(f1)"
   ]
  },
  {
   "cell_type": "code",
   "execution_count": null,
   "id": "8ca941d5",
   "metadata": {
    "papermill": {
     "duration": 0.010335,
     "end_time": "2025-04-19T17:06:21.032313",
     "exception": false,
     "start_time": "2025-04-19T17:06:21.021978",
     "status": "completed"
    },
    "tags": []
   },
   "outputs": [],
   "source": []
  }
 ],
 "metadata": {
  "kaggle": {
   "accelerator": "nvidiaTeslaT4",
   "dataSources": [
    {
     "datasetId": 7014369,
     "sourceId": 11229833,
     "sourceType": "datasetVersion"
    }
   ],
   "dockerImageVersionId": 30919,
   "isGpuEnabled": true,
   "isInternetEnabled": true,
   "language": "python",
   "sourceType": "notebook"
  },
  "kernelspec": {
   "display_name": "Python 3",
   "language": "python",
   "name": "python3"
  },
  "language_info": {
   "codemirror_mode": {
    "name": "ipython",
    "version": 3
   },
   "file_extension": ".py",
   "mimetype": "text/x-python",
   "name": "python",
   "nbconvert_exporter": "python",
   "pygments_lexer": "ipython3",
   "version": "3.10.12"
  },
  "papermill": {
   "default_parameters": {},
   "duration": 730.929246,
   "end_time": "2025-04-19T17:06:24.161518",
   "environment_variables": {},
   "exception": null,
   "input_path": "__notebook__.ipynb",
   "output_path": "__notebook__.ipynb",
   "parameters": {},
   "start_time": "2025-04-19T16:54:13.232272",
   "version": "2.6.0"
  }
 },
 "nbformat": 4,
 "nbformat_minor": 5
}
